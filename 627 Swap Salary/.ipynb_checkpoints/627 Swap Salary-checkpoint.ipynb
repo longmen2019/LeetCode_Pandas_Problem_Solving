{
 "cells": [
  {
   "cell_type": "code",
   "execution_count": 1,
   "id": "903acc35-abc3-4dfe-a738-efade5c42722",
   "metadata": {},
   "outputs": [
    {
     "name": "stdout",
     "output_type": "stream",
     "text": [
      "   id name sex  salary\n",
      "0   1    A   f    2500\n",
      "1   2    B   m    1500\n",
      "2   3    C   f    5500\n",
      "3   4    D   m     500\n"
     ]
    }
   ],
   "source": [
    "import pandas as pd\n",
    "\n",
    "# Create the DataFrame\n",
    "data = {\n",
    "    'id': [1, 2, 3, 4],\n",
    "    'name': ['A', 'B', 'C', 'D'],\n",
    "    'sex': ['m', 'f', 'm', 'f'],\n",
    "    'salary': [2500, 1500, 5500, 500]\n",
    "}\n",
    "\n",
    "df = pd.DataFrame(data)\n",
    "\n",
    "# Swap 'm' and 'f' values in the 'sex' column\n",
    "df['sex'] = df['sex'].replace({'m': 'f', 'f': 'm'})\n",
    "\n",
    "print(df)\n"
   ]
  },
  {
   "cell_type": "code",
   "execution_count": null,
   "id": "9afb5b91-bfb8-4cbf-96e5-23926fe04492",
   "metadata": {},
   "outputs": [],
   "source": []
  }
 ],
 "metadata": {
  "kernelspec": {
   "display_name": "Python 3 (ipykernel)",
   "language": "python",
   "name": "python3"
  },
  "language_info": {
   "codemirror_mode": {
    "name": "ipython",
    "version": 3
   },
   "file_extension": ".py",
   "mimetype": "text/x-python",
   "name": "python",
   "nbconvert_exporter": "python",
   "pygments_lexer": "ipython3",
   "version": "3.12.4"
  }
 },
 "nbformat": 4,
 "nbformat_minor": 5
}
