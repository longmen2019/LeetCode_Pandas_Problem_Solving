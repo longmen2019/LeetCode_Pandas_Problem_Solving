{
 "cells": [
  {
   "cell_type": "code",
   "execution_count": 2,
   "id": "56303c9d-dba5-4dbf-8457-e2b720dae770",
   "metadata": {},
   "outputs": [
    {
     "name": "stdout",
     "output_type": "stream",
     "text": [
      "   product_id product_name\n",
      "0           1           S8\n"
     ]
    }
   ],
   "source": [
    "import pandas as pd\n",
    "\n",
    "# Sample data for products and sales\n",
    "product_data = {\n",
    "    \"product_id\": [1, 2, 3],\n",
    "    \"product_name\": [\"S8\", \"G4\", \"iPhone\"],\n",
    "    \"unit_price\": [1000, 800, 1400]\n",
    "}\n",
    "\n",
    "sales_data = {\n",
    "    \"seller_id\": [1, 1, 2, 3],\n",
    "    \"product_id\": [1, 2, 2, 3],\n",
    "    \"buyer_id\": [1, 2, 3, 4],\n",
    "    \"sale_date\": [\"2019-01-21\", \"2019-02-17\", \"2019-06-02\", \"2019-05-13\"],\n",
    "    \"quantity\": [2, 1, 1, 2],\n",
    "    \"price\": [2000, 800, 800, 2800]\n",
    "}\n",
    "\n",
    "# Create DataFrames\n",
    "product_df = pd.DataFrame(product_data)\n",
    "sales_df = pd.DataFrame(sales_data)\n",
    "\n",
    "# Convert sale_date to datetime\n",
    "sales_df['sale_date'] = pd.to_datetime(sales_df['sale_date'])\n",
    "\n",
    "# Filter sales for Q1 2019\n",
    "q1_sales_df = sales_df[(sales_df['sale_date'] >= '2019-01-01') & (sales_df['sale_date'] <= '2019-03-31')]\n",
    "\n",
    "# Get product_ids that were sold in Q1 2019\n",
    "q1_product_ids = q1_sales_df['product_id'].unique()\n",
    "\n",
    "# Get product_ids that were sold outside Q1 2019\n",
    "non_q1_sales_df = sales_df[(sales_df['sale_date'] < '2019-01-01') | (sales_df['sale_date'] > '2019-03-31')]\n",
    "non_q1_product_ids = non_q1_sales_df['product_id'].unique()\n",
    "\n",
    "# Find products that were sold only in Q1 2019\n",
    "only_q1_product_ids = set(q1_product_ids) - set(non_q1_product_ids)\n",
    "\n",
    "# Filter the product DataFrame to get the names of these products\n",
    "result_df = product_df[product_df['product_id'].isin(only_q1_product_ids)][['product_id', 'product_name']]\n",
    "\n",
    "print(result_df)\n"
   ]
  },
  {
   "cell_type": "code",
   "execution_count": null,
   "id": "4ce07904-4eb9-4fb9-9ff2-16e9c229e6e4",
   "metadata": {},
   "outputs": [],
   "source": []
  }
 ],
 "metadata": {
  "kernelspec": {
   "display_name": "Python 3 (ipykernel)",
   "language": "python",
   "name": "python3"
  },
  "language_info": {
   "codemirror_mode": {
    "name": "ipython",
    "version": 3
   },
   "file_extension": ".py",
   "mimetype": "text/x-python",
   "name": "python",
   "nbconvert_exporter": "python",
   "pygments_lexer": "ipython3",
   "version": "3.12.4"
  }
 },
 "nbformat": 4,
 "nbformat_minor": 5
}
