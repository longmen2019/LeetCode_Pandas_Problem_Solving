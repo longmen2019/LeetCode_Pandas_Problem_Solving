{
 "cells": [
  {
   "cell_type": "code",
   "execution_count": 1,
   "id": "9e61dca4-d36b-4041-bc23-63ec9bb96c80",
   "metadata": {},
   "outputs": [
    {
     "name": "stdout",
     "output_type": "stream",
     "text": [
      "  Customers\n",
      "1     Henry\n",
      "3       Max\n"
     ]
    }
   ],
   "source": [
    "import pandas as pd\n",
    "\n",
    "# Sample data\n",
    "customers = pd.DataFrame({'id': [1, 2, 3, 4],\n",
    "                   'name': ['Joe', 'Henry', 'Sam', 'Max']})\n",
    "orders = pd.DataFrame({'id': [1, 2],\n",
    "                   'customerId': [3, 1]})\n",
    "\n",
    "# Find customers who have never ordered\n",
    "customers_who_never_ordered = customers[~customers['id'].isin(orders['customerId'])]\n",
    "# ~ is a bitwise NOT operator. It inverts the boolean mask.\n",
    "# isin() checks if each element of a Series is present in a list-like object.\n",
    "# Here, we're checking if each customer's ID is in the list of customer IDs from the 'orders' DataFrame.\n",
    "\n",
    "# Select only the 'name' column\n",
    "result = customers_who_never_ordered[['name']]\n",
    "# Double brackets [[]] are used to select multiple columns.\n",
    "# Here, we're selecting only the 'name' column.\n",
    "\n",
    "result.columns = ['Customers']\n",
    "# .columns is an attribute of a DataFrame that allows you to access or modify the column labels.\n",
    "# Here, we're renaming the 'name' column to 'Customers'.\n",
    "\n",
    "print(result)"
   ]
  },
  {
   "cell_type": "code",
   "execution_count": null,
   "id": "531f29b3-f14c-4f3f-9b1f-dd5363c7743b",
   "metadata": {},
   "outputs": [],
   "source": []
  }
 ],
 "metadata": {
  "kernelspec": {
   "display_name": "Python 3 (ipykernel)",
   "language": "python",
   "name": "python3"
  },
  "language_info": {
   "codemirror_mode": {
    "name": "ipython",
    "version": 3
   },
   "file_extension": ".py",
   "mimetype": "text/x-python",
   "name": "python",
   "nbconvert_exporter": "python",
   "pygments_lexer": "ipython3",
   "version": "3.12.4"
  }
 },
 "nbformat": 4,
 "nbformat_minor": 5
}
