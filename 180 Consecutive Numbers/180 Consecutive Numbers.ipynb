{
 "cells": [
  {
   "cell_type": "code",
   "execution_count": 2,
   "id": "9e61dca4-d36b-4041-bc23-63ec9bb96c80",
   "metadata": {},
   "outputs": [
    {
     "name": "stdout",
     "output_type": "stream",
     "text": [
      "  ConsecutiveNums\n",
      "0               1\n"
     ]
    }
   ],
   "source": [
    "import pandas as pd\n",
    "\n",
    "# Sample input data\n",
    "data = {\n",
    "    'id': [1, 2, 3, 4, 5, 6, 7],\n",
    "    'num': ['1', '1', '1', '2', '1', '2', '2']\n",
    "}\n",
    "\n",
    "logs = pd.DataFrame(data)\n",
    "def consecutive_numbers(logs: pd.DataFrame) -> pd.DataFrame:\n",
    "    # Check for consecutive numbers using Pandas' shift method\n",
    "    logs['prev_num'] = logs['num'].shift(1)\n",
    "    logs['prev_prev_num'] = logs['num'].shift(2)\n",
    "    \n",
    "    # Identify rows where the current number is the same as the previous two numbers\n",
    "    consecutive = logs[(logs['num'] == logs['prev_num']) & (logs['num'] == logs['prev_prev_num'])]\n",
    "    \n",
    "    # Extract unique numbers that appear consecutively at least three times\n",
    "    result = pd.DataFrame(consecutive['num'].unique(), columns=['ConsecutiveNums'])\n",
    "    \n",
    "    return result\n",
    "result = consecutive_numbers(logs)\n",
    "print(result)"
   ]
  },
  {
   "cell_type": "code",
   "execution_count": null,
   "id": "531f29b3-f14c-4f3f-9b1f-dd5363c7743b",
   "metadata": {},
   "outputs": [],
   "source": []
  }
 ],
 "metadata": {
  "kernelspec": {
   "display_name": "Python 3 (ipykernel)",
   "language": "python",
   "name": "python3"
  },
  "language_info": {
   "codemirror_mode": {
    "name": "ipython",
    "version": 3
   },
   "file_extension": ".py",
   "mimetype": "text/x-python",
   "name": "python",
   "nbconvert_exporter": "python",
   "pygments_lexer": "ipython3",
   "version": "3.12.4"
  }
 },
 "nbformat": 4,
 "nbformat_minor": 5
}
