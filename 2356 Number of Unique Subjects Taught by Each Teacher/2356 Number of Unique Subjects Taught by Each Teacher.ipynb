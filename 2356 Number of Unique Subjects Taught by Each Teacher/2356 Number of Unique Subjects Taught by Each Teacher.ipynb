{
 "cells": [
  {
   "cell_type": "code",
   "execution_count": null,
   "id": "ca169ed0-ea60-4f89-8741-5e26ac3959b4",
   "metadata": {},
   "outputs": [],
   "source": [
    "import pandas as pd\n",
    "\n",
    "def count_unique_subjects(teacher: pd.DataFrame) -> pd.DataFrame:\n",
    "    \"\"\"\n",
    "    Counts the number of unique subjects for each teacher.\n",
    "\n",
    "    Args:\n",
    "        teacher (pd.DataFrame): DataFrame containing 'teacher_id' and 'subject_id' columns.\n",
    "\n",
    "    Returns:\n",
    "        pd.DataFrame: DataFrame with 'teacher_id' and the count of unique 'subject_id' as 'cnt'.\n",
    "    \"\"\"\n",
    "    if teacher.empty:\n",
    "        return pd.DataFrame(columns=['teacher_id', 'cnt'])\n",
    "    \n",
    "    group_df = teacher.groupby('teacher_id')['subject_id'].nunique().reset_index()\n",
    "    group_df.columns = ['teacher_id', 'cnt']\n",
    "    return group_df\n",
    "\n",
    "# Sample data\n",
    "data = {\n",
    "    'teacher_id': [1, 1, 1, 2, 2, 2, 2],\n",
    "    'subject_id': [2, 2, 3, 1, 2, 3, 4],\n",
    "    'dept_id': [3, 4, 3, 1, 1, 1, 1]\n",
    "}\n",
    "\n",
    "# Create a DataFrame\n",
    "teacher_df = pd.DataFrame(data)\n",
    "\n",
    "# Use the function\n",
    "result_df = count_unique_subjects(teacher_df)\n",
    "\n",
    "print(result_df)\n"
   ]
  }
 ],
 "metadata": {
  "kernelspec": {
   "display_name": "Python 3 (ipykernel)",
   "language": "python",
   "name": "python3"
  },
  "language_info": {
   "codemirror_mode": {
    "name": "ipython",
    "version": 3
   },
   "file_extension": ".py",
   "mimetype": "text/x-python",
   "name": "python",
   "nbconvert_exporter": "python",
   "pygments_lexer": "ipython3",
   "version": "3.12.4"
  }
 },
 "nbformat": 4,
 "nbformat_minor": 5
}
