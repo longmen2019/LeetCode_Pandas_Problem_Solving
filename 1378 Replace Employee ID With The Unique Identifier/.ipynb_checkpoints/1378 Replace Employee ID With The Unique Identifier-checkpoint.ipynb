{
 "cells": [
  {
   "cell_type": "code",
   "execution_count": 1,
   "id": "f39ebb78-6d44-4c45-981a-0f9a9f957f90",
   "metadata": {},
   "outputs": [
    {
     "name": "stdout",
     "output_type": "stream",
     "text": [
      "\n",
      "Result Table:\n",
      "   unique_id      name\n",
      "0        NaN     Alice\n",
      "1        NaN       Bob\n",
      "2        2.0      Meir\n",
      "3        3.0   Winston\n",
      "4        1.0  Jonathan\n"
     ]
    }
   ],
   "source": [
    "import pandas as pd\n",
    "\n",
    "# Sample data for Employees table\n",
    "employees = pd.DataFrame({\n",
    "    'id': [1, 7, 11, 90, 3],\n",
    "    'name': ['Alice', 'Bob', 'Meir', 'Winston', 'Jonathan']\n",
    "})\n",
    "\n",
    "# Sample data for EmployeeUNI table\n",
    "employee_uni = pd.DataFrame({\n",
    "    'id': [3, 11, 90],\n",
    "    'unique_id': [1, 2, 3]\n",
    "})\n",
    "\n",
    "# Perform a left merge\n",
    "merged_df = pd.merge(employees, employee_uni, on='id', how='left')\n",
    "\n",
    "# Replace missing unique_id with pd.NA\n",
    "# pd.NA is the pandas representation for missing values (null)\n",
    "# It is used to indicate missing or null values in a DataFrame\n",
    "merged_df['unique_id'] = merged_df['unique_id'].fillna(pd.NA)\n",
    "\n",
    "# Select the desired columns\n",
    "result_df = merged_df[['unique_id', 'name']]\n",
    "\n",
    "print(\"\\nResult Table:\")\n",
    "print(result_df)\n"
   ]
  },
  {
   "cell_type": "code",
   "execution_count": null,
   "id": "361318da-1fec-48f8-8eb7-6860ba6db21f",
   "metadata": {},
   "outputs": [],
   "source": []
  }
 ],
 "metadata": {
  "kernelspec": {
   "display_name": "Python 3 (ipykernel)",
   "language": "python",
   "name": "python3"
  },
  "language_info": {
   "codemirror_mode": {
    "name": "ipython",
    "version": 3
   },
   "file_extension": ".py",
   "mimetype": "text/x-python",
   "name": "python",
   "nbconvert_exporter": "python",
   "pygments_lexer": "ipython3",
   "version": "3.12.4"
  }
 },
 "nbformat": 4,
 "nbformat_minor": 5
}
