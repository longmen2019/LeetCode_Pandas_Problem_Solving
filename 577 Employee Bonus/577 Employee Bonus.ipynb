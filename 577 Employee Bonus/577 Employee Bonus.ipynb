{
 "cells": [
  {
   "cell_type": "code",
   "execution_count": 1,
   "id": "9e61dca4-d36b-4041-bc23-63ec9bb96c80",
   "metadata": {},
   "outputs": [
    {
     "name": "stdout",
     "output_type": "stream",
     "text": [
      "   name  bonus\n",
      "0  Brad    NaN\n",
      "1  John    NaN\n",
      "2   Dan  500.0\n"
     ]
    }
   ],
   "source": [
    "import pandas as pd\n",
    "\n",
    "# Sample data\n",
    "employee_data = {\n",
    "    'empId': [3, 1, 2, 4],\n",
    "    'name': ['Brad', 'John', 'Dan', 'Thomas'],\n",
    "    'supervisor': [None, 3, 3, 3],\n",
    "    'salary': [4000, 1000, 2000, 4000]\n",
    "}\n",
    "\n",
    "bonus_data = {\n",
    "    'empId': [2, 4],\n",
    "    'bonus': [500, 2000]\n",
    "}\n",
    "\n",
    "# Create DataFrames\n",
    "employee_df = pd.DataFrame(employee_data)\n",
    "bonus_df = pd.DataFrame(bonus_data)\n",
    "\n",
    "# Merge DataFrames on 'empId'\n",
    "merged_df = pd.merge(employee_df, bonus_df, on='empId', how='left')\n",
    "\n",
    "# Filter for bonuses less than 1000 or NaN\n",
    "# The | symbol is used as a logical OR operator\n",
    "result_df = merged_df[(merged_df['bonus'] < 1000) | (merged_df['bonus'].isna())]\n",
    "\n",
    "# Select required columns\n",
    "result_df = result_df[['name', 'bonus']]\n",
    "\n",
    "print(result_df)\n"
   ]
  },
  {
   "cell_type": "code",
   "execution_count": null,
   "id": "531f29b3-f14c-4f3f-9b1f-dd5363c7743b",
   "metadata": {},
   "outputs": [],
   "source": []
  }
 ],
 "metadata": {
  "kernelspec": {
   "display_name": "Python 3 (ipykernel)",
   "language": "python",
   "name": "python3"
  },
  "language_info": {
   "codemirror_mode": {
    "name": "ipython",
    "version": 3
   },
   "file_extension": ".py",
   "mimetype": "text/x-python",
   "name": "python",
   "nbconvert_exporter": "python",
   "pygments_lexer": "ipython3",
   "version": "3.12.4"
  }
 },
 "nbformat": 4,
 "nbformat_minor": 5
}
