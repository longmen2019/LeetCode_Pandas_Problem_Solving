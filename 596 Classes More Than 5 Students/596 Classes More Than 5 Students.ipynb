{
 "cells": [
  {
   "cell_type": "code",
   "execution_count": 6,
   "id": "193c092d-1674-4df0-8967-a9acc75d7cef",
   "metadata": {},
   "outputs": [
    {
     "name": "stdout",
     "output_type": "stream",
     "text": [
      "Original DataFrame:\n",
      "  student     class\n",
      "0       A      Math\n",
      "1       B   English\n",
      "2       C      Math\n",
      "3       D   Biology\n",
      "4       E      Math\n",
      "5       F  Computer\n",
      "6       G      Math\n",
      "7       H      Math\n",
      "8       I      Math\n",
      "\n",
      "Class counts DataFrame:\n",
      "      class  student_count\n",
      "0   Biology              1\n",
      "1  Computer              1\n",
      "2   English              1\n",
      "3      Math              6\n",
      "\n",
      "Classes with at least 5 students:\n",
      "  class  student_count\n",
      "3  Math              6\n",
      "\n",
      "Final result with classes having at least 5 students:\n",
      "  class\n",
      "3  Math\n"
     ]
    }
   ],
   "source": [
    "import pandas as pd\n",
    "\n",
    "# Create a DataFrame to mimic the Courses table\n",
    "data = {\n",
    "    'student': ['A', 'B', 'C', 'D', 'E', 'F', 'G', 'H', 'I'],\n",
    "    'class': ['Math', 'English', 'Math', 'Biology', 'Math', 'Computer', 'Math', 'Math', 'Math']\n",
    "}\n",
    "course_df = pd.DataFrame(data)\n",
    "print(\"Original DataFrame:\")\n",
    "print(course_df)\n",
    "\n",
    "# Group by 'class' and count the number of students in each class\n",
    "# .groupby('class') groups the data by the 'class' column\n",
    "# .size() counts the number of occurrences in each group\n",
    "class_counts = course_df.groupby('class').size().reset_index(name='student_count')\n",
    "\n",
    "# .reset_index() is used to convert the GroupBy object to a DataFrame and\n",
    "# the 'name' parameter renames the new column with counts to 'student_count'\n",
    "print(\"\\nClass counts DataFrame:\")\n",
    "print(class_counts)\n",
    "\n",
    "# Filter classes with at least 5 students\n",
    "# This filters the DataFrame to include only the rows where 'student_count' is 5 or more\n",
    "class_with_min_5_students = class_counts[class_counts['student_count'] >= 5]\n",
    "\n",
    "print(\"\\nClasses with at least 5 students:\")\n",
    "print(class_with_min_5_students)\n",
    "\n",
    "# Select only the 'class' column for the final result\n",
    "# This extracts the 'class' column from the filtered DataFrame\n",
    "result = class_with_min_5_students[['class']]\n",
    "\n",
    "print(\"\\nFinal result with classes having at least 5 students:\")\n",
    "print(result)\n"
   ]
  },
  {
   "cell_type": "code",
   "execution_count": null,
   "id": "97ebcf76-8105-42dc-9b6c-75104c472179",
   "metadata": {},
   "outputs": [],
   "source": []
  }
 ],
 "metadata": {
  "kernelspec": {
   "display_name": "Python 3 (ipykernel)",
   "language": "python",
   "name": "python3"
  },
  "language_info": {
   "codemirror_mode": {
    "name": "ipython",
    "version": 3
   },
   "file_extension": ".py",
   "mimetype": "text/x-python",
   "name": "python",
   "nbconvert_exporter": "python",
   "pygments_lexer": "ipython3",
   "version": "3.12.4"
  }
 },
 "nbformat": 4,
 "nbformat_minor": 5
}
