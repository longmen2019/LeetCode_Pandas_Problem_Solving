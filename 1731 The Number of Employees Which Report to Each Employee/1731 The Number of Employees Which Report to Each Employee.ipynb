{
 "cells": [
  {
   "cell_type": "code",
   "execution_count": 1,
   "id": "440b81e1-e4a6-434c-a888-c562ce3a441b",
   "metadata": {},
   "outputs": [
    {
     "name": "stdout",
     "output_type": "stream",
     "text": [
      "   employee_id   name  reports_count  average_age\n",
      "0          9.0  Hercy              2           39\n"
     ]
    }
   ],
   "source": [
    "import pandas as pd\n",
    "import math\n",
    "\n",
    "def count_employees(employees: pd.DataFrame) -> pd.DataFrame:\n",
    "    # Filter the employees who have reports (i.e., the managers)\n",
    "    # .notna() is used to select rows where the 'reports_to' column is not null\n",
    "    # This is necessary because we only want to consider employees who report to someone\n",
    "    reports = employees[employees['reports_to'].notna()]  # .notna() returns a boolean Series indicating whether each value is not missing\n",
    "    \n",
    "    # Create a new DataFrame with the count of reports and average age for each manager\n",
    "    # We use the groupby function to group the rows by the 'reports_to' column\n",
    "    # This means that we will calculate the average age and count of reports for each manager separately\n",
    "    # The agg function is used to apply one or more aggregation functions to the grouped data\n",
    "    # In this case, we use 'mean' to calculate the average age and 'count' to count the number of reports\n",
    "    # The agg function returns a DataFrame with the aggregated values\n",
    "    manager_reports = reports.groupby('reports_to').agg({\n",
    "        'age': 'mean',  # calculate the average age of the reports for each manager\n",
    "        'employee_id': 'count'  # count the number of reports for each manager\n",
    "    }).reset_index()  # reset_index is used to reset the index of the resulting DataFrame\n",
    "    \n",
    "    # Rename the columns\n",
    "    manager_reports = manager_reports.rename(columns={\n",
    "        'reports_to': 'employee_id',  # rename the 'reports_to' column to 'employee_id'\n",
    "        'age': 'average_age',  # rename the 'age' column to 'average_age'\n",
    "        'employee_id': 'reports_count'  # rename the 'employee_id' column to 'reports_count'\n",
    "    })\n",
    "    \n",
    "    # Round the average age to the nearest integer\n",
    "    # We use the apply function to apply a lambda function to each value in the 'average_age' column\n",
    "    # The lambda function takes a value x and returns math.floor(x + 0.5)\n",
    "    # This is equivalent to rounding x to the nearest integer\n",
    "    # The reason we add 0.5 before taking the floor is to ensure that values like 38.5 are rounded up to 39\n",
    "    # This is because math.floor(38.5) would return 38, but math.floor(38.5 + 0.5) returns 39\n",
    "    # The apply function returns a new Series with the rounded values\n",
    "    manager_reports['average_age'] = manager_reports['average_age'].apply(\n",
    "        lambda x: math.floor(x + 0.5)  # this is equivalent to rounding x to the nearest integer\n",
    "        # Here's a detailed explanation of how this works:\n",
    "        # When x is a whole number (e.g. 38), x + 0.5 will be 38.5\n",
    "        # When x is a decimal number (e.g. 38.5), x + 0.5 will be 39.0\n",
    "        # When x is a decimal number (e.g. 38.4), x + 0.5 will be 38.9\n",
    "        # So, when we take the floor of x + 0.5, we get:\n",
    "        #   - 38 when x is 38\n",
    "        #   - 39 when x is 38.5 or greater\n",
    "        #   - 38 when x is 38.4 or less\n",
    "        # This is equivalent to rounding x to the nearest integer\n",
    "    )\n",
    "    \n",
    "    # Merge the manager reports with the original employees DataFrame to get the manager names\n",
    "    result = pd.merge(manager_reports, employees[['employee_id', 'name']], on='employee_id')\n",
    "    \n",
    "    # Select the desired columns and sort by employee_id\n",
    "    result = result[['employee_id', 'name', 'reports_count', 'average_age']].sort_values('employee_id')\n",
    "    \n",
    "    return result\n",
    "\n",
    "# Example usage:\n",
    "data = {\n",
    "    'employee_id': [9, 6, 4, 2],\n",
    "    'name': ['Hercy', 'Alice', 'Bob', 'Winston'],\n",
    "    'reports_to': [None, 9, 9, None],\n",
    "    'age': [43, 41, 36, 37]\n",
    "}\n",
    "employees = pd.DataFrame(data)\n",
    "\n",
    "result = count_employees(employees)\n",
    "print(result)\n"
   ]
  },
  {
   "cell_type": "code",
   "execution_count": null,
   "id": "2aec1501-1ff1-4ab8-b398-363aa0f43e0c",
   "metadata": {},
   "outputs": [],
   "source": []
  }
 ],
 "metadata": {
  "kernelspec": {
   "display_name": "Python 3 (ipykernel)",
   "language": "python",
   "name": "python3"
  },
  "language_info": {
   "codemirror_mode": {
    "name": "ipython",
    "version": 3
   },
   "file_extension": ".py",
   "mimetype": "text/x-python",
   "name": "python",
   "nbconvert_exporter": "python",
   "pygments_lexer": "ipython3",
   "version": "3.12.4"
  }
 },
 "nbformat": 4,
 "nbformat_minor": 5
}
