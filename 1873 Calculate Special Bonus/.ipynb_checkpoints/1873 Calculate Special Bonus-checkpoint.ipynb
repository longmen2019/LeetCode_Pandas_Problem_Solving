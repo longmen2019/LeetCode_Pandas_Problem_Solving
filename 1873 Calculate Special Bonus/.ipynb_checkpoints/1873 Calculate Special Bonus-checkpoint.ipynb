{
 "cells": [
  {
   "cell_type": "code",
   "execution_count": 1,
   "id": "bbbd09d6-8e15-4b9a-b173-76cce528413d",
   "metadata": {},
   "outputs": [
    {
     "name": "stdout",
     "output_type": "stream",
     "text": [
      "   employee_id  bonus\n",
      "0            2      0\n",
      "1            3      0\n",
      "2            7   7400\n",
      "3            8      0\n",
      "4            9   7700\n",
      "5           10      0\n",
      "6           11   6800\n"
     ]
    }
   ],
   "source": [
    "import pandas as pd\n",
    "\n",
    "def calculate_special_bonus(employees: pd.DataFrame) -> pd.DataFrame:\n",
    "    # Calculate the bonus for each employee\n",
    "    employees['bonus'] = employees.apply(\n",
    "        lambda x: x['salary'] if x['employee_id'] % 2 != 0 and not x['name'].startswith('M') else 0, axis=1\n",
    "    )\n",
    "    \n",
    "    # Select the required columns and sort by employee_id\n",
    "    result = employees[['employee_id', 'bonus']].sort_values(by='employee_id')\n",
    "    \n",
    "    return result\n",
    "\n",
    "# Sample data\n",
    "data = {'employee_id': [2, 3, 7, 8, 9, 10, 11],\n",
    "        'name': ['Meir', 'Michael', 'Addilyn', 'Juan', 'Kannon', 'Emma', 'Nolan'],\n",
    "        'salary': [3000, 3800, 7400, 6100, 7700, 5200, 6800]}\n",
    "employees = pd.DataFrame(data)\n",
    "\n",
    "# Calculate the special bonus\n",
    "result = calculate_special_bonus(employees)\n",
    "print(result)\n"
   ]
  },
  {
   "cell_type": "code",
   "execution_count": null,
   "id": "f6ee4d9d-e477-4602-86f3-9c0130a40ad8",
   "metadata": {},
   "outputs": [],
   "source": []
  }
 ],
 "metadata": {
  "kernelspec": {
   "display_name": "Python 3 (ipykernel)",
   "language": "python",
   "name": "python3"
  },
  "language_info": {
   "codemirror_mode": {
    "name": "ipython",
    "version": 3
   },
   "file_extension": ".py",
   "mimetype": "text/x-python",
   "name": "python",
   "nbconvert_exporter": "python",
   "pygments_lexer": "ipython3",
   "version": "3.12.4"
  }
 },
 "nbformat": 4,
 "nbformat_minor": 5
}
