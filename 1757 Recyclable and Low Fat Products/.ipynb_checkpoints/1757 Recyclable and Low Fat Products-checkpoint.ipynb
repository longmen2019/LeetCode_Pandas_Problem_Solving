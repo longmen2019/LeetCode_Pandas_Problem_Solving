{
 "cells": [
  {
   "cell_type": "code",
   "execution_count": 1,
   "id": "a52acb2e-3f5e-4ff4-a3bb-56193c9cfb38",
   "metadata": {},
   "outputs": [
    {
     "name": "stdout",
     "output_type": "stream",
     "text": [
      "Original DataFrame:\n",
      "   product_id low_fats recyclable\n",
      "0           0        Y          N\n",
      "1           1        Y          Y\n",
      "2           2        N          Y\n",
      "3           3        Y          Y\n",
      "4           4        N          N\n",
      "\n",
      "Products that are both low fat and recyclable:\n",
      "   product_id\n",
      "1           1\n",
      "3           3\n"
     ]
    }
   ],
   "source": [
    "import pandas as pd\n",
    "\n",
    "def find_products(products: pd.DataFrame) -> pd.DataFrame:\n",
    "    \"\"\"\n",
    "    Filter products that are both low fat and recyclable.\n",
    "\n",
    "    Args:\n",
    "        products (pd.DataFrame): DataFrame containing product information.\n",
    "\n",
    "    Returns:\n",
    "        pd.DataFrame: DataFrame containing product IDs that are both low fat and recyclable.\n",
    "    \"\"\"\n",
    "    filtered_products = products[(products['low_fats'] == 'Y') & (products['recyclable'] == 'Y')]\n",
    "    result = filtered_products[['product_id']].copy()\n",
    "    return result\n",
    "\n",
    "# Data sample\n",
    "data = {\n",
    "    'product_id': [0, 1, 2, 3, 4],\n",
    "    'low_fats': ['Y', 'Y', 'N', 'Y', 'N'],\n",
    "    'recyclable': ['N', 'Y', 'Y', 'Y', 'N']\n",
    "}\n",
    "\n",
    "# Create a DataFrame from the data sample\n",
    "products = pd.DataFrame(data)\n",
    "\n",
    "# Print the original DataFrame\n",
    "print(\"Original DataFrame:\")\n",
    "print(products)\n",
    "\n",
    "# Call the function to find products that are both low fat and recyclable\n",
    "result = find_products(products)\n",
    "\n",
    "# Print the result\n",
    "print(\"\\nProducts that are both low fat and recyclable:\")\n",
    "print(result)\n"
   ]
  },
  {
   "cell_type": "code",
   "execution_count": null,
   "id": "38ca1723-172a-4796-8252-003d649238f2",
   "metadata": {},
   "outputs": [],
   "source": []
  }
 ],
 "metadata": {
  "kernelspec": {
   "display_name": "Python 3 (ipykernel)",
   "language": "python",
   "name": "python3"
  },
  "language_info": {
   "codemirror_mode": {
    "name": "ipython",
    "version": 3
   },
   "file_extension": ".py",
   "mimetype": "text/x-python",
   "name": "python",
   "nbconvert_exporter": "python",
   "pygments_lexer": "ipython3",
   "version": "3.12.4"
  }
 },
 "nbformat": 4,
 "nbformat_minor": 5
}
