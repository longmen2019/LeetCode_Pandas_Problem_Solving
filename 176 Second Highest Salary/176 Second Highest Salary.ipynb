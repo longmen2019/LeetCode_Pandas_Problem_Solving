{
 "cells": [
  {
   "cell_type": "code",
   "execution_count": 4,
   "id": "9e61dca4-d36b-4041-bc23-63ec9bb96c80",
   "metadata": {},
   "outputs": [
    {
     "name": "stdout",
     "output_type": "stream",
     "text": [
      "   SecondHighestSalary\n",
      "0                  200\n"
     ]
    }
   ],
   "source": [
    "import pandas as pd\n",
    "\n",
    "\n",
    "# Sample data\n",
    "data = {'id': [1, 2, 3], 'salary': [100, 200, 300]}\n",
    "\n",
    "df = pd.DataFrame(data)\n",
    "\n",
    "# Drop the duplicate salaries\n",
    "distinct_salaries = df['salary'].drop_duplicates()\n",
    "\n",
    "# Sort salaries in descending order\n",
    "sorted_salaries = distinct_salaries.sort_values(ascending=False)\n",
    "\n",
    "# Get the second highest salaries\n",
    "if len(sorted_salaries) >= 2:\n",
    "    second_highest_salary = sorted_salaries.iloc[1]\n",
    "else:\n",
    "    second_highest_salary = None\n",
    "\n",
    "# Create the result DataFrame\n",
    "result = pd.DataFrame({'SecondHighestSalary': [second_highest_salary]})\n",
    "\n",
    "print(result)"
   ]
  },
  {
   "cell_type": "code",
   "execution_count": null,
   "id": "531f29b3-f14c-4f3f-9b1f-dd5363c7743b",
   "metadata": {},
   "outputs": [],
   "source": []
  }
 ],
 "metadata": {
  "kernelspec": {
   "display_name": "Python 3 (ipykernel)",
   "language": "python",
   "name": "python3"
  },
  "language_info": {
   "codemirror_mode": {
    "name": "ipython",
    "version": 3
   },
   "file_extension": ".py",
   "mimetype": "text/x-python",
   "name": "python",
   "nbconvert_exporter": "python",
   "pygments_lexer": "ipython3",
   "version": "3.12.4"
  }
 },
 "nbformat": 4,
 "nbformat_minor": 5
}
