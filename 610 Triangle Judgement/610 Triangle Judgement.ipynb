{
 "cells": [
  {
   "cell_type": "code",
   "execution_count": 3,
   "id": "79f27fa3-21e5-461a-83d4-e4c37af9d8e0",
   "metadata": {},
   "outputs": [
    {
     "name": "stdout",
     "output_type": "stream",
     "text": [
      "    x   y   z triangle\n",
      "0  13  15  30       No\n",
      "1  10  20  15      Yes\n"
     ]
    }
   ],
   "source": [
    "import pandas as pd\n",
    "\n",
    "def triangle_judgement(triangle: pd.DataFrame) -> pd.DataFrame:\n",
    "    # The is_triangle function determines if three sides (x, y, z) can form a triangle\n",
    "    # This function is necessary because we need to apply this logic to each row in the DataFrame\n",
    "    def is_triangle(row):\n",
    "        x, y, z = row['x'], row['y'], row['z']\n",
    "        # Check the triangle inequality theorem conditions\n",
    "        if (x + y > z) and (x + z > y) and (y + z > x):\n",
    "            return 'Yes'\n",
    "        else:\n",
    "            return 'No'\n",
    "    \n",
    "    # Apply the is_triangle function to each row in the DataFrame\n",
    "    # `apply` method is used to apply a function along the axis of the DataFrame\n",
    "    # Here, `axis=1` means we are applying the function to each row\n",
    "    # The result of the function is stored in a new column 'triangle'\n",
    "    triangle['triangle'] = triangle.apply(is_triangle, axis=1)\n",
    "    \n",
    "    # Return the updated DataFrame with the new 'triangle' column\n",
    "    return triangle\n",
    "\n",
    "# Example usage\n",
    "data = {\n",
    "    'x': [13, 10],\n",
    "    'y': [15, 20],\n",
    "    'z': [30, 15]\n",
    "}\n",
    "\n",
    "triangle_df = pd.DataFrame(data)\n",
    "result_df = triangle_judgement(triangle_df)\n",
    "\n",
    "print(result_df)\n"
   ]
  },
  {
   "cell_type": "code",
   "execution_count": null,
   "id": "d7b10819-ea6c-4c46-806e-d0b778520fec",
   "metadata": {},
   "outputs": [],
   "source": []
  }
 ],
 "metadata": {
  "kernelspec": {
   "display_name": "Python 3 (ipykernel)",
   "language": "python",
   "name": "python3"
  },
  "language_info": {
   "codemirror_mode": {
    "name": "ipython",
    "version": 3
   },
   "file_extension": ".py",
   "mimetype": "text/x-python",
   "name": "python",
   "nbconvert_exporter": "python",
   "pygments_lexer": "ipython3",
   "version": "3.12.4"
  }
 },
 "nbformat": 4,
 "nbformat_minor": 5
}
