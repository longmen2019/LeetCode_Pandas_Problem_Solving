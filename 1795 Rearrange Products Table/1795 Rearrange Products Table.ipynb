{
 "cells": [
  {
   "cell_type": "code",
   "execution_count": 1,
   "id": "503d492e-eff5-4f01-a5ad-26c6c1b680f1",
   "metadata": {},
   "outputs": [
    {
     "name": "stdout",
     "output_type": "stream",
     "text": [
      "   product_id   store  price\n",
      "0           0  store1   95.0\n",
      "1           1  store1   70.0\n",
      "2           0  store2  100.0\n",
      "4           0  store3  105.0\n",
      "5           1  store3   80.0\n"
     ]
    }
   ],
   "source": [
    "import pandas as pd\n",
    "\n",
    "def rearrange_products_table(products: pd.DataFrame) -> pd.DataFrame:\n",
    "    \"\"\"\n",
    "    Rearranges the products table from wide format to long format.\n",
    "    \n",
    "    Args:\n",
    "    products (pd.DataFrame): DataFrame containing product_id and prices in different stores.\n",
    "\n",
    "    Returns:\n",
    "    pd.DataFrame: DataFrame rearranged in long format with columns product_id, store, and price.\n",
    "    \"\"\"\n",
    "    # Reshape the DataFrame from wide format to long format\n",
    "    products_long = products.melt(id_vars='product_id', var_name='store', value_name='price')\n",
    "    \n",
    "    # Remove rows with null values in the 'price' column\n",
    "    products_long = products_long.dropna(subset=['price'])\n",
    "    \n",
    "    return products_long\n",
    "\n",
    "# Sample data input\n",
    "products_df = pd.DataFrame({\n",
    "    'product_id': [0, 1],\n",
    "    'store1': [95, 70],\n",
    "    'store2': [100, None],\n",
    "    'store3': [105, 80]\n",
    "})\n",
    "\n",
    "# Rearrange the products table\n",
    "rearranged_df = rearrange_products_table(products_df)\n",
    "\n",
    "# Output the rearranged DataFrame\n",
    "print(rearranged_df)\n"
   ]
  },
  {
   "cell_type": "code",
   "execution_count": null,
   "id": "3d05f529-1c4c-492a-98e6-880b1e14667d",
   "metadata": {},
   "outputs": [],
   "source": []
  }
 ],
 "metadata": {
  "kernelspec": {
   "display_name": "Python 3 (ipykernel)",
   "language": "python",
   "name": "python3"
  },
  "language_info": {
   "codemirror_mode": {
    "name": "ipython",
    "version": 3
   },
   "file_extension": ".py",
   "mimetype": "text/x-python",
   "name": "python",
   "nbconvert_exporter": "python",
   "pygments_lexer": "ipython3",
   "version": "3.12.4"
  }
 },
 "nbformat": 4,
 "nbformat_minor": 5
}
