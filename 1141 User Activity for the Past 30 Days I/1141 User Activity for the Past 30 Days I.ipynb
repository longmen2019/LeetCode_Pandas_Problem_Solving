{
 "cells": [
  {
   "cell_type": "code",
   "execution_count": 1,
   "id": "e686ce2e-bfb2-4185-8ed0-cd7b343a1aff",
   "metadata": {},
   "outputs": [
    {
     "name": "stdout",
     "output_type": "stream",
     "text": [
      "         day  active_users\n",
      "0 2019-07-20             2\n",
      "1 2019-07-21             2\n"
     ]
    }
   ],
   "source": [
    "import pandas as pd\n",
    "\n",
    "# Sample data for Activity table\n",
    "activity_data = {\n",
    "    \"user_id\": [1, 1, 1, 2, 2, 2, 3, 3, 3, 4, 4],\n",
    "    \"session_id\": [1, 1, 1, 4, 4, 4, 2, 2, 2, 3, 3],\n",
    "    \"activity_date\": [\"2019-07-20\", \"2019-07-20\", \"2019-07-20\", \"2019-07-20\", \"2019-07-21\", \"2019-07-21\", \n",
    "                      \"2019-07-21\", \"2019-07-21\", \"2019-07-21\", \"2019-06-25\", \"2019-06-25\"],\n",
    "    \"activity_type\": [\"open_session\", \"scroll_down\", \"end_session\", \"open_session\", \"send_message\", \n",
    "                      \"end_session\", \"open_session\", \"send_message\", \"end_session\", \"open_session\", \"end_session\"]\n",
    "}\n",
    "\n",
    "# Create DataFrame\n",
    "activity_df = pd.DataFrame(activity_data)\n",
    "\n",
    "# Convert activity_date to datetime\n",
    "activity_df['activity_date'] = pd.to_datetime(activity_df['activity_date'])\n",
    "\n",
    "# Define the end date for the date range\n",
    "end_date = pd.to_datetime(\"2019-07-27\")\n",
    "\n",
    "# Calculate the start date for the last 30 days\n",
    "start_date = end_date - pd.Timedelta(days=29)\n",
    "\n",
    "# Filter for the last 30 days ending 2019-07-27\n",
    "filtered_df = activity_df[(activity_df['activity_date'] >= start_date) & (activity_df['activity_date'] <= end_date)]\n",
    "\n",
    "# Group by 'activity_date' and count unique users using 'nunique'\n",
    "result_df = filtered_df.groupby('activity_date')['user_id'].nunique().reset_index()\n",
    "\n",
    "# Rename the columns as required\n",
    "result_df = result_df.rename(columns={\"activity_date\": \"day\", \"user_id\": \"active_users\"})\n",
    "\n",
    "# Explanation of reset_index():\n",
    "# After grouping by 'activity_date' and counting unique 'user_id' entries,\n",
    "# reset_index() converts the index back to a regular column.\n",
    "# This step is essential to ensure the resulting DataFrame has a clean and standard format for further manipulation or presentation.\n",
    "\n",
    "print(result_df)\n"
   ]
  },
  {
   "cell_type": "code",
   "execution_count": null,
   "id": "8078f29e-e909-4974-93b3-c292d3289af4",
   "metadata": {},
   "outputs": [],
   "source": []
  }
 ],
 "metadata": {
  "kernelspec": {
   "display_name": "Python 3 (ipykernel)",
   "language": "python",
   "name": "python3"
  },
  "language_info": {
   "codemirror_mode": {
    "name": "ipython",
    "version": 3
   },
   "file_extension": ".py",
   "mimetype": "text/x-python",
   "name": "python",
   "nbconvert_exporter": "python",
   "pygments_lexer": "ipython3",
   "version": "3.12.4"
  }
 },
 "nbformat": 4,
 "nbformat_minor": 5
}
