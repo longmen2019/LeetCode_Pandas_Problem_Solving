{
 "cells": [
  {
   "cell_type": "code",
   "execution_count": 1,
   "id": "08051835-330a-421d-8d59-ee03cf5a6af3",
   "metadata": {},
   "outputs": [
    {
     "name": "stdout",
     "output_type": "stream",
     "text": [
      "    name  balance\n",
      "0  Alice    11000\n"
     ]
    }
   ],
   "source": [
    "import pandas as pd\n",
    "\n",
    "def account_summary(users: pd.DataFrame, transactions: pd.DataFrame) -> pd.DataFrame:\n",
    "    # Group transactions by account and sum the amounts to compute balances\n",
    "    account_balance = transactions.groupby('account')['amount'].sum().reset_index()\n",
    "    \n",
    "    # Rename the columns for clarity\n",
    "    account_balance.columns = ['account', 'balance']\n",
    "    \n",
    "    # Merge the users DataFrame with the account balances\n",
    "    merged_df = pd.merge(users, account_balance, on='account', how='left')\n",
    "    \n",
    "    # Filter to include only users with a balance greater than 10000\n",
    "    high_balance_users = merged_df[merged_df['balance'] > 10000]\n",
    "    \n",
    "    # Select and return the 'name' and 'balance' columns\n",
    "    return high_balance_users[['name', 'balance']]\n",
    "\n",
    "# Example usage:\n",
    "users_data = {\n",
    "    'account': [900001, 900002, 900003],\n",
    "    'name': ['Alice', 'Bob', 'Charlie']\n",
    "}\n",
    "\n",
    "transactions_data = {\n",
    "    'trans_id': [1, 2, 3, 4, 5, 6, 7],\n",
    "    'account': [900001, 900001, 900001, 900002, 900003, 900003, 900003],\n",
    "    'amount': [7000, 7000, -3000, 1000, 6000, 6000, -4000],\n",
    "    'transacted_on': pd.to_datetime(['2020-08-01', '2020-09-01', '2020-09-02', \n",
    "                                     '2020-09-12', '2020-08-07', '2020-09-07', '2020-09-11'])\n",
    "}\n",
    "\n",
    "users_df = pd.DataFrame(users_data)\n",
    "transactions_df = pd.DataFrame(transactions_data)\n",
    "\n",
    "result = account_summary(users_df, transactions_df)\n",
    "print(result)\n"
   ]
  },
  {
   "cell_type": "code",
   "execution_count": null,
   "id": "a2deb618-6199-4bc5-8242-d759ece6a66a",
   "metadata": {},
   "outputs": [],
   "source": []
  }
 ],
 "metadata": {
  "kernelspec": {
   "display_name": "Python 3 (ipykernel)",
   "language": "python",
   "name": "python3"
  },
  "language_info": {
   "codemirror_mode": {
    "name": "ipython",
    "version": 3
   },
   "file_extension": ".py",
   "mimetype": "text/x-python",
   "name": "python",
   "nbconvert_exporter": "python",
   "pygments_lexer": "ipython3",
   "version": "3.12.4"
  }
 },
 "nbformat": 4,
 "nbformat_minor": 5
}
