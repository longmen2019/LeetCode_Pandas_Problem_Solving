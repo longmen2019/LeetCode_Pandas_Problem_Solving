{
 "cells": [
  {
   "cell_type": "code",
   "execution_count": 1,
   "id": "9e543dab-dc4d-4336-8c14-70ca21514fa9",
   "metadata": {},
   "outputs": [
    {
     "name": "stdout",
     "output_type": "stream",
     "text": [
      "   customer_id\n",
      "0            1\n",
      "2            3\n"
     ]
    }
   ],
   "source": [
    "import pandas as pd\n",
    "from typing import Set\n",
    "\n",
    "def find_customers(customer: pd.DataFrame, product: pd.DataFrame) -> pd.DataFrame:\n",
    "    \"\"\"\n",
    "    Find customers who bought all products.\n",
    "\n",
    "    Args:\n",
    "    customer (pd.DataFrame): DataFrame containing customer_id and product_key columns.\n",
    "    product (pd.DataFrame): DataFrame containing product_key column.\n",
    "\n",
    "    Returns:\n",
    "    pd.DataFrame: DataFrame containing customer_id of customers who bought all products.\n",
    "    \"\"\"\n",
    "    # Get the set of all product keys\n",
    "    all_products: Set[int] = set(product['product_key'])\n",
    "\n",
    "    # Group by customer_id and aggregate their product keys as sets\n",
    "    customer_groups = customer.groupby('customer_id')['product_key'].apply(set).reset_index()\n",
    "\n",
    "    # Filter the customers who bought all products\n",
    "    customers_who_bought_all_products = customer_groups[customer_groups['product_key'] >= all_products]\n",
    "\n",
    "    # Return only the customer_ids\n",
    "    result = customers_who_bought_all_products[['customer_id']]\n",
    "\n",
    "    return result\n",
    "\n",
    "# Sample data for testing\n",
    "customer_data = {\n",
    "    'customer_id': [1, 2, 3, 3, 1],\n",
    "    'product_key': [5, 6, 5, 6, 6]\n",
    "}\n",
    "\n",
    "product_data = {\n",
    "    'product_key': [5, 6]\n",
    "}\n",
    "\n",
    "# Create DataFrames\n",
    "customer_df = pd.DataFrame(customer_data)\n",
    "product_df = pd.DataFrame(product_data)\n",
    "\n",
    "# Find customers who bought all products\n",
    "result = find_customers(customer_df, product_df)\n",
    "print(result)\n"
   ]
  },
  {
   "cell_type": "code",
   "execution_count": null,
   "id": "636d9a36-31b6-4347-befe-5cf55afe6778",
   "metadata": {},
   "outputs": [],
   "source": []
  }
 ],
 "metadata": {
  "kernelspec": {
   "display_name": "Python 3 (ipykernel)",
   "language": "python",
   "name": "python3"
  },
  "language_info": {
   "codemirror_mode": {
    "name": "ipython",
    "version": 3
   },
   "file_extension": ".py",
   "mimetype": "text/x-python",
   "name": "python",
   "nbconvert_exporter": "python",
   "pygments_lexer": "ipython3",
   "version": "3.12.4"
  }
 },
 "nbformat": 4,
 "nbformat_minor": 5
}
