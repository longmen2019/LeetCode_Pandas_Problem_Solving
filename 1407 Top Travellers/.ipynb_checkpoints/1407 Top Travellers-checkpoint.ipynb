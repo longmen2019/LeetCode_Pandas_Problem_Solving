{
 "cells": [
  {
   "cell_type": "code",
   "execution_count": 1,
   "id": "add3c94d-9403-458f-977d-63d4607a9402",
   "metadata": {},
   "outputs": [
    {
     "name": "stdout",
     "output_type": "stream",
     "text": [
      "       name  travelled_distance\n",
      "6     Elvis               450.0\n",
      "4       Lee               450.0\n",
      "1       Bob               317.0\n",
      "5  Jonathan               312.0\n",
      "2      Alex               222.0\n",
      "0     Alice               120.0\n",
      "3    Donald                 0.0\n"
     ]
    }
   ],
   "source": [
    "import pandas as pd\n",
    "\n",
    "def top_travellers(users: pd.DataFrame, rides: pd.DataFrame) -> pd.DataFrame:\n",
    "    # Group by 'user_id' and sum the 'distance' column\n",
    "    rides_grouped = rides.groupby('user_id')['distance'].sum().reset_index()\n",
    "    rides_grouped = rides_grouped.rename(columns={'distance': 'travelled_distance'})\n",
    "    \n",
    "    # Merge the users and rides_grouped DataFrames on 'id' and 'user_id'\n",
    "    merge_t = pd.merge(users, rides_grouped, left_on='id', right_on='user_id', how='left')\n",
    "    \n",
    "    # Fill NaN values in 'travelled_distance' with 0 for users with no rides\n",
    "    merge_t['travelled_distance'] = merge_t['travelled_distance'].fillna(0)\n",
    "    \n",
    "    # Select the required columns and sort the result\n",
    "    result = merge_t[['name', 'travelled_distance']]\n",
    "    result = result.sort_values(by=['travelled_distance', 'name'], ascending=[False, True])\n",
    "    \n",
    "    return result\n",
    "\n",
    "# Sample DataFrames\n",
    "users_data = {'id': [1, 2, 3, 4, 7, 13, 19],\n",
    "              'name': ['Alice', 'Bob', 'Alex', 'Donald', 'Lee', 'Jonathan', 'Elvis']}\n",
    "rides_data = {'id': [1, 2, 3, 4, 5, 6, 7, 8, 9],\n",
    "              'user_id': [1, 2, 3, 7, 13, 19, 7, 19, 7],\n",
    "              'distance': [120, 317, 222, 100, 312, 50, 120, 400, 230]}\n",
    "\n",
    "users_df = pd.DataFrame(users_data)\n",
    "rides_df = pd.DataFrame(rides_data)\n",
    "\n",
    "# Call the function and print the result\n",
    "result_df = top_travellers(users_df, rides_df)\n",
    "print(result_df)\n"
   ]
  },
  {
   "cell_type": "code",
   "execution_count": null,
   "id": "a9bd8fa0-65f0-49c3-a2ec-c019bb52d66d",
   "metadata": {},
   "outputs": [],
   "source": []
  }
 ],
 "metadata": {
  "kernelspec": {
   "display_name": "Python 3 (ipykernel)",
   "language": "python",
   "name": "python3"
  },
  "language_info": {
   "codemirror_mode": {
    "name": "ipython",
    "version": 3
   },
   "file_extension": ".py",
   "mimetype": "text/x-python",
   "name": "python",
   "nbconvert_exporter": "python",
   "pygments_lexer": "ipython3",
   "version": "3.12.4"
  }
 },
 "nbformat": 4,
 "nbformat_minor": 5
}
