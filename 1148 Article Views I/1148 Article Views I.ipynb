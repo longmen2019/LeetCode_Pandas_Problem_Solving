{
 "cells": [
  {
   "cell_type": "code",
   "execution_count": 1,
   "id": "ef874cd8-0acc-4365-b693-11636ecbfc46",
   "metadata": {},
   "outputs": [
    {
     "name": "stdout",
     "output_type": "stream",
     "text": [
      "   id\n",
      "0   4\n",
      "1   7\n"
     ]
    }
   ],
   "source": [
    "import pandas as pd\n",
    "\n",
    "def article_views(views: pd.DataFrame) -> pd.DataFrame:\n",
    "    # Filter rows where the author viewed their own article\n",
    "    self_views = views[views['author_id'] == views['viewer_id']]\n",
    "    \n",
    "    # Extract unique author IDs\n",
    "    unique_authors = self_views['author_id'].unique()\n",
    "    \n",
    "    # Sort the unique author IDs in ascending order\n",
    "    sorted_authors = sorted(unique_authors)\n",
    "    \n",
    "    # Create a result DataFrame\n",
    "    result = pd.DataFrame(sorted_authors, columns=['id'])\n",
    "    \n",
    "    return result\n",
    "\n",
    "# Sample data for testing\n",
    "data = {\n",
    "    'article_id': [1, 1, 2, 2, 4, 3, 3],\n",
    "    'author_id': [3, 3, 7, 7, 7, 4, 4],\n",
    "    'viewer_id': [5, 6, 7, 6, 1, 4, 4],\n",
    "    'view_date': ['2019-08-01', '2019-08-02', '2019-08-01', '2019-08-02', '2019-07-22', '2019-07-21', '2019-07-21']\n",
    "}\n",
    "\n",
    "# Create DataFrame\n",
    "df = pd.DataFrame(data)\n",
    "\n",
    "# Apply the function\n",
    "result = article_views(df)\n",
    "\n",
    "# Display the result\n",
    "print(result)\n"
   ]
  },
  {
   "cell_type": "code",
   "execution_count": null,
   "id": "27488600-40c9-43db-8d15-9e7a8aea5739",
   "metadata": {},
   "outputs": [],
   "source": []
  }
 ],
 "metadata": {
  "kernelspec": {
   "display_name": "Python 3 (ipykernel)",
   "language": "python",
   "name": "python3"
  },
  "language_info": {
   "codemirror_mode": {
    "name": "ipython",
    "version": 3
   },
   "file_extension": ".py",
   "mimetype": "text/x-python",
   "name": "python",
   "nbconvert_exporter": "python",
   "pygments_lexer": "ipython3",
   "version": "3.12.4"
  }
 },
 "nbformat": 4,
 "nbformat_minor": 5
}
