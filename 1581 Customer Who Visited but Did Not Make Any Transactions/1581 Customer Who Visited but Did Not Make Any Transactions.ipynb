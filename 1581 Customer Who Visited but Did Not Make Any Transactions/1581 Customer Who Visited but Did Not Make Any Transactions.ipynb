{
 "cells": [
  {
   "cell_type": "code",
   "execution_count": 1,
   "id": "849ecd1f-7341-4c0f-92da-3d07b2e78b89",
   "metadata": {},
   "outputs": [
    {
     "name": "stdout",
     "output_type": "stream",
     "text": [
      "   customer_id  count_no_trans\n",
      "0           30               1\n",
      "1           54               2\n",
      "2           96               1\n"
     ]
    }
   ],
   "source": [
    "import pandas as pd\n",
    "\n",
    "def find_customers(visits: pd.DataFrame, transactions: pd.DataFrame) -> pd.DataFrame:\n",
    "    # Merge the visits and transactions DataFrames on visit_id, keeping all visits\n",
    "    merged_df = pd.merge(visits, transactions, on='visit_id', how='left', indicator=True)\n",
    "    \n",
    "    # Filter the DataFrame to include only rows where the visit_id had no corresponding transaction\n",
    "    no_transactions_df = merged_df[merged_df['_merge'] == 'left_only']\n",
    "    \n",
    "    # Count the number of no-transaction visits per customer\n",
    "    result_df = no_transactions_df.groupby('customer_id').size().reset_index(name='count_no_trans')\n",
    "    \n",
    "    return result_df\n",
    "\n",
    "# Example usage:\n",
    "visits_data = {\n",
    "    'visit_id': [1, 2, 4, 5, 6, 7, 8],\n",
    "    'customer_id': [23, 9, 30, 54, 96, 54, 54]\n",
    "}\n",
    "\n",
    "transactions_data = {\n",
    "    'transaction_id': [2, 3, 9, 12, 13],\n",
    "    'visit_id': [5, 5, 5, 1, 2],\n",
    "    'amount': [310, 300, 200, 910, 970]\n",
    "}\n",
    "\n",
    "visits_df = pd.DataFrame(visits_data)\n",
    "transactions_df = pd.DataFrame(transactions_data)\n",
    "\n",
    "result = find_customers(visits_df, transactions_df)\n",
    "print(result)\n"
   ]
  },
  {
   "cell_type": "code",
   "execution_count": null,
   "id": "deae7abc-757f-4e64-8024-aad7165765c8",
   "metadata": {},
   "outputs": [],
   "source": []
  }
 ],
 "metadata": {
  "kernelspec": {
   "display_name": "Python 3 (ipykernel)",
   "language": "python",
   "name": "python3"
  },
  "language_info": {
   "codemirror_mode": {
    "name": "ipython",
    "version": 3
   },
   "file_extension": ".py",
   "mimetype": "text/x-python",
   "name": "python",
   "nbconvert_exporter": "python",
   "pygments_lexer": "ipython3",
   "version": "3.12.4"
  }
 },
 "nbformat": 4,
 "nbformat_minor": 5
}
