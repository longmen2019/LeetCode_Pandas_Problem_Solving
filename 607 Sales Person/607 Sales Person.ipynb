{
 "cells": [
  {
   "cell_type": "code",
   "execution_count": 1,
   "id": "f2264f52-fc1c-4eae-8d29-64f5955ae81b",
   "metadata": {},
   "outputs": [
    {
     "name": "stdout",
     "output_type": "stream",
     "text": [
      "   name\n",
      "1   Amy\n",
      "2  Mark\n",
      "4  Alex\n"
     ]
    }
   ],
   "source": [
    "import pandas as pd\n",
    "\n",
    "# Sample data\n",
    "salesperson_data = {\n",
    "    'sales_id': [1, 2, 3, 4, 5],\n",
    "    'name': ['John', 'Amy', 'Mark', 'Pam', 'Alex'],\n",
    "    'salary': [100000, 12000, 65000, 25000, 5000],\n",
    "    'commission_rate': [6, 5, 12, 25, 10],\n",
    "    'hire_date': ['2006-04-01', '2010-05-01', '2008-12-25', '2005-01-01', '2007-02-03']\n",
    "}\n",
    "\n",
    "company_data = {\n",
    "    'com_id': [1, 2, 3, 4],\n",
    "    'name': ['RED', 'ORANGE', 'YELLOW', 'GREEN'],\n",
    "    'city': ['Boston', 'New York', 'Boston', 'Austin']\n",
    "}\n",
    "\n",
    "orders_data = {\n",
    "    'order_id': [1, 2, 3, 4],\n",
    "    'order_date': ['2014-01-01', '2014-02-01', '2014-03-01', '2014-04-01'],\n",
    "    'com_id': [3, 4, 1, 1],\n",
    "    'sales_id': [4, 5, 1, 4],\n",
    "    'amount': [10000, 5000, 50000, 25000]\n",
    "}\n",
    "\n",
    "# Convert dictionaries to DataFrames\n",
    "salesperson_df = pd.DataFrame(salesperson_data)\n",
    "company_df = pd.DataFrame(company_data)\n",
    "orders_df = pd.DataFrame(orders_data)\n",
    "\n",
    "# Step 2: Filter the orders related to the company \"RED\"\n",
    "# Identify the com_id of the company named \"RED\"\n",
    "red_company_id = company_df[company_df['name'] == 'RED']['com_id'].values[0]  \n",
    "# [company_df['name'] == 'RED']: Filter the rows where the company name is \"RED\"\n",
    "# ['com_id']: Select the 'com_id' column\n",
    "# .values[0]: Get the first value of the 'com_id' column (since there should be only one \"RED\")\n",
    "\n",
    "# Filter the orders that are related to the company \"RED\"\n",
    "red_orders_df = orders_df[orders_df['com_id'] == red_company_id]\n",
    "\n",
    "# Step 3: Find salespersons with no orders related to \"RED\"\n",
    "# Get the unique sales_id of salespersons who had orders related to \"RED\"\n",
    "salespersons_with_red_orders = red_orders_df['sales_id'].unique()\n",
    "\n",
    "# Find salespersons who did not have any orders related to \"RED\"\n",
    "# ~salesperson_df['sales_id'].isin(salespersons_with_red_orders): \n",
    "# Select rows where 'sales_id' is not in the list of salespersons with orders related to \"RED\"\n",
    "salespersons_no_red_orders = salesperson_df[~salesperson_df['sales_id'].isin(salespersons_with_red_orders)]\n",
    "\n",
    "# Result: Get the names of these salespersons\n",
    "result = salespersons_no_red_orders[['name']]\n",
    "print(result)\n"
   ]
  },
  {
   "cell_type": "code",
   "execution_count": null,
   "id": "2c6fa465-d590-453f-b777-d2d0844e9f93",
   "metadata": {},
   "outputs": [],
   "source": []
  }
 ],
 "metadata": {
  "kernelspec": {
   "display_name": "Python 3 (ipykernel)",
   "language": "python",
   "name": "python3"
  },
  "language_info": {
   "codemirror_mode": {
    "name": "ipython",
    "version": 3
   },
   "file_extension": ".py",
   "mimetype": "text/x-python",
   "name": "python",
   "nbconvert_exporter": "python",
   "pygments_lexer": "ipython3",
   "version": "3.12.4"
  }
 },
 "nbformat": 4,
 "nbformat_minor": 5
}
