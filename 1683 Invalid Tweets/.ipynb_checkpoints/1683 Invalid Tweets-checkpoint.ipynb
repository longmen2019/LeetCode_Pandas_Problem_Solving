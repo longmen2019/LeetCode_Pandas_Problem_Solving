{
 "cells": [
  {
   "cell_type": "code",
   "execution_count": 1,
   "id": "2bd46c18-4b0c-4878-a700-7ae10dbf6500",
   "metadata": {},
   "outputs": [
    {
     "name": "stdout",
     "output_type": "stream",
     "text": [
      "   tweet_id\n",
      "1         2\n"
     ]
    }
   ],
   "source": [
    "import pandas as pd\n",
    "\n",
    "def invalid_tweets(tweets: pd.DataFrame) -> pd.DataFrame:\n",
    "    \"\"\"\n",
    "    Find the IDs of invalid tweets. A tweet is considered invalid if the number\n",
    "    of characters in its content is strictly greater than 15.\n",
    "\n",
    "    Args:\n",
    "    tweets (pd.DataFrame): DataFrame containing tweet data with columns 'tweet_id' and 'content'.\n",
    "\n",
    "    Returns:\n",
    "    pd.DataFrame: DataFrame containing the 'tweet_id' of invalid tweets.\n",
    "    \"\"\"\n",
    "    # Use a lambda function to filter tweets with content length greater than 15\n",
    "    # The lambda function takes each element 'x' in the 'content' column\n",
    "    # - x: Represents the current element (tweet content) being processed\n",
    "    # - len(x): Calculates the length of the current tweet content\n",
    "    # - len(x) > 15: Checks if the length of the current tweet content is greater than 15 characters\n",
    "    invalid = tweets[tweets['content'].apply(lambda x: len(x) > 15)]\n",
    "    \n",
    "    # Select only the 'tweet_id' column\n",
    "    result = invalid[['tweet_id']]\n",
    "    \n",
    "    return result\n",
    "\n",
    "# Example usage\n",
    "data = {'tweet_id': [1, 2], 'content': ['Let us Code', 'More than fifteen chars are here!']}\n",
    "df = pd.DataFrame(data)\n",
    "invalid_tweets_df = invalid_tweets(df)\n",
    "print(invalid_tweets_df)\n"
   ]
  },
  {
   "cell_type": "code",
   "execution_count": null,
   "id": "9cc6f7bc-235b-4e33-9675-281c050a1c59",
   "metadata": {},
   "outputs": [],
   "source": []
  }
 ],
 "metadata": {
  "kernelspec": {
   "display_name": "Python 3 (ipykernel)",
   "language": "python",
   "name": "python3"
  },
  "language_info": {
   "codemirror_mode": {
    "name": "ipython",
    "version": 3
   },
   "file_extension": ".py",
   "mimetype": "text/x-python",
   "name": "python",
   "nbconvert_exporter": "python",
   "pygments_lexer": "ipython3",
   "version": "3.12.4"
  }
 },
 "nbformat": 4,
 "nbformat_minor": 5
}
