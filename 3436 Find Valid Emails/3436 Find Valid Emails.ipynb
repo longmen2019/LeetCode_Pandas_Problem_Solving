{
 "cells": [
  {
   "cell_type": "code",
   "execution_count": 1,
   "id": "a5eaaf72-bf7b-4341-a2f4-427e1571566d",
   "metadata": {},
   "outputs": [
    {
     "name": "stdout",
     "output_type": "stream",
     "text": [
      "   user_id              email\n",
      "0        1  alice@example.com\n",
      "3        4   david@domain.com\n"
     ]
    }
   ],
   "source": [
    "import pandas as pd\n",
    "import re\n",
    "\n",
    "def is_valid_email(email: str) -> bool:\n",
    "    # Regular expression for validating email based on criteria\n",
    "    pattern = r'^[\\w]+@[a-zA-Z]+\\.(com)$'\n",
    "    return bool(re.match(pattern, email))\n",
    "\n",
    "def find_valid_emails(users: pd.DataFrame) -> pd.DataFrame:\n",
    "    # Apply validation function to the email column\n",
    "    users['is_valid'] = users['email'].apply(is_valid_email)\n",
    "    \n",
    "    # Filter valid emails\n",
    "    valid_emails = users[users['is_valid']]\n",
    "    \n",
    "    # Sort by user_id in ascending order\n",
    "    valid_emails_sorted = valid_emails.sort_values(by='user_id')\n",
    "    \n",
    "    # Drop the 'is_valid' column\n",
    "    valid_emails_sorted = valid_emails_sorted.drop(columns=['is_valid'])\n",
    "    \n",
    "    return valid_emails_sorted\n",
    "\n",
    "# Sample data\n",
    "data = {\n",
    "    'user_id': [1, 2, 3, 4, 5],\n",
    "    'email': [\n",
    "        'alice@example.com',\n",
    "        'bob_at_example.com',\n",
    "        'charlie@example.net',\n",
    "        'david@domain.com',\n",
    "        'eve@invalid'\n",
    "    ]\n",
    "}\n",
    "\n",
    "# Create DataFrame\n",
    "df = pd.DataFrame(data)\n",
    "\n",
    "# Find valid emails\n",
    "valid_emails_df = find_valid_emails(df)\n",
    "print(valid_emails_df)\n"
   ]
  },
  {
   "cell_type": "code",
   "execution_count": null,
   "id": "b19126a5-ff3a-4d0b-b8db-0990f707c508",
   "metadata": {},
   "outputs": [],
   "source": []
  }
 ],
 "metadata": {
  "kernelspec": {
   "display_name": "Python 3 (ipykernel)",
   "language": "python",
   "name": "python3"
  },
  "language_info": {
   "codemirror_mode": {
    "name": "ipython",
    "version": 3
   },
   "file_extension": ".py",
   "mimetype": "text/x-python",
   "name": "python",
   "nbconvert_exporter": "python",
   "pygments_lexer": "ipython3",
   "version": "3.12.4"
  }
 },
 "nbformat": 4,
 "nbformat_minor": 5
}
