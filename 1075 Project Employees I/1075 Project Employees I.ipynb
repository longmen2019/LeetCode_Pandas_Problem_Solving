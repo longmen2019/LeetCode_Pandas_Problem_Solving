{
 "cells": [
  {
   "cell_type": "code",
   "execution_count": 6,
   "id": "e1c1a291-2ab3-46c1-bc32-747ae8ed3ed9",
   "metadata": {},
   "outputs": [
    {
     "name": "stdout",
     "output_type": "stream",
     "text": [
      "   project_id  average_years\n",
      "0           1            2.0\n",
      "1           2            2.5\n"
     ]
    }
   ],
   "source": [
    "import pandas as pd\n",
    "\n",
    "# Sample data for projects and employees\n",
    "project_data = {\n",
    "    \"project_id\": [1, 1, 1, 2, 2],\n",
    "    \"employee_id\": [1, 2, 3, 1, 4]\n",
    "}\n",
    "\n",
    "employee_data = {\n",
    "    \"employee_id\": [1, 2, 3, 4],\n",
    "    \"name\": [\"Khaled\", \"Ali\", \"John\", \"Doe\"],\n",
    "    \"experience_years\": [3, 2, 1, 2]\n",
    "}\n",
    "\n",
    "# Create DataFrame for projects\n",
    "project_df = pd.DataFrame(project_data)\n",
    "\n",
    "# Create DataFrame for employees\n",
    "employee_df = pd.DataFrame(employee_data)\n",
    "\n",
    "# Merge DataFrames on 'employee_id'\n",
    "merged_df = pd.merge(project_df, employee_df, on=\"employee_id\")\n",
    "\n",
    "# Group by 'project_id' and calculate the average experience\n",
    "result_df = merged_df.groupby('project_id')['experience_years'].mean().reset_index()\n",
    "\n",
    "# Rename the column and round the result to 2 decimal places\n",
    "result_df = result_df.rename(columns={\"experience_years\": \"average_years\"})\n",
    "result_df['average_years'] = result_df['average_years'].round(2)\n",
    "\n",
    "# Explanation of reset_index():\n",
    "# After grouping by 'project_id' and calculating the mean of 'experience_years',\n",
    "# the resulting DataFrame has 'project_id' as its index. Using reset_index() reverts 'project_id'\n",
    "# back to a regular column and generates a new default integer index. This step is essential to\n",
    "# ensure that the resulting DataFrame has a clean and standard format for further manipulation or presentation.\n",
    "\n",
    "print(result_df)\n"
   ]
  },
  {
   "cell_type": "code",
   "execution_count": null,
   "id": "5daa8df2-8a74-42e7-9cf9-7ffc55caaac3",
   "metadata": {},
   "outputs": [],
   "source": []
  }
 ],
 "metadata": {
  "kernelspec": {
   "display_name": "Python 3 (ipykernel)",
   "language": "python",
   "name": "python3"
  },
  "language_info": {
   "codemirror_mode": {
    "name": "ipython",
    "version": 3
   },
   "file_extension": ".py",
   "mimetype": "text/x-python",
   "name": "python",
   "nbconvert_exporter": "python",
   "pygments_lexer": "ipython3",
   "version": "3.12.4"
  }
 },
 "nbformat": 4,
 "nbformat_minor": 5
}
