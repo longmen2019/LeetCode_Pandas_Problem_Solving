{
 "cells": [
  {
   "cell_type": "code",
   "execution_count": 1,
   "id": "f983b87f-1612-4fc5-ad34-419ee7b50fd7",
   "metadata": {},
   "outputs": [
    {
     "name": "stdout",
     "output_type": "stream",
     "text": [
      "Primary Departments:\n",
      "    employee_id  department_id primary_flag\n",
      "1            2              1            Y\n",
      "5            4              3            Y\n",
      "Result:\n",
      "    employee_id  department_id\n",
      "1            2              1\n",
      "5            4              3\n",
      "0            1              1\n",
      "3            3              3\n"
     ]
    }
   ],
   "source": [
    "import pandas as pd\n",
    "\n",
    "# Sample DataFrame\n",
    "data = {\n",
    "    'employee_id': [1, 2, 2, 3, 4, 4, 4],\n",
    "    'department_id': [1, 1, 2, 3, 2, 3, 4],\n",
    "    'primary_flag': ['N', 'Y', 'N', 'N', 'N', 'Y', 'N']\n",
    "}\n",
    "employee = pd.DataFrame(data)\n",
    "\n",
    "# Function to find the primary department for each employee\n",
    "def find_primary_department(employee: pd.DataFrame) -> pd.DataFrame:\n",
    "    # Extract rows where 'primary_flag' is 'Y'\n",
    "    primary_departments = employee[employee['primary_flag'] == 'Y']\n",
    "    print(\"Primary Departments:\\n\", primary_departments)\n",
    "    \n",
    "    # Group by 'employee_id' and filter groups where no 'primary_flag' is 'Y'\n",
    "    # The lambda function checks if there are any 'Y' flags in the group\n",
    "    no_primary_flag = employee.groupby('employee_id').filter(\n",
    "        lambda x: (x['primary_flag'] == 'Y').sum() == 0\n",
    "    )\n",
    "    \n",
    "    # Concatenate the two DataFrames and select relevant columns\n",
    "    result = pd.concat([primary_departments, no_primary_flag])[['employee_id', 'department_id']]\n",
    "    \n",
    "    return result\n",
    "\n",
    "# Call the function with the sample dataset\n",
    "result_df = find_primary_department(employee)\n",
    "print(\"Result:\\n\", result_df)\n",
    "\n"
   ]
  },
  {
   "cell_type": "code",
   "execution_count": null,
   "id": "e5002fe6-66e3-4815-ae08-2e8ec415eaf9",
   "metadata": {},
   "outputs": [],
   "source": []
  }
 ],
 "metadata": {
  "kernelspec": {
   "display_name": "Python 3 (ipykernel)",
   "language": "python",
   "name": "python3"
  },
  "language_info": {
   "codemirror_mode": {
    "name": "ipython",
    "version": 3
   },
   "file_extension": ".py",
   "mimetype": "text/x-python",
   "name": "python",
   "nbconvert_exporter": "python",
   "pygments_lexer": "ipython3",
   "version": "3.12.4"
  }
 },
 "nbformat": 4,
 "nbformat_minor": 5
}
