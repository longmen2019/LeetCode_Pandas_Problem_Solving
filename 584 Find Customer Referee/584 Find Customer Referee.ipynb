{
 "cells": [
  {
   "cell_type": "code",
   "execution_count": 1,
   "metadata": {},
   "outputs": [
    {
     "name": "stdout",
     "output_type": "stream",
     "text": [
      "   name\n",
      "0  Will\n",
      "1  Jane\n",
      "3  Bill\n",
      "4  Zack\n"
     ]
    }
   ],
   "source": [
    "import pandas as pd\n",
    "\n",
    "# Create the DataFrame\n",
    "data = {\n",
    "    'id': [1, 2, 3, 4, 5, 6],\n",
    "    'name': ['Will', 'Jane', 'Alex', 'Bill', 'Zack', 'Mark'],\n",
    "    'referee_id': [None, None, 2, None, 1, 2]\n",
    "}\n",
    "df = pd.DataFrame(data)\n",
    "\n",
    "# Filter out customers referred by the customer with id = 2\n",
    "result_df = df[(df['referee_id'] != 2) | (df['referee_id'].isna())]\n",
    "\n",
    "# Select the names of the remaining customers\n",
    "result = result_df[['name']]\n",
    "\n",
    "print(result)\n"
   ]
  },
  {
   "cell_type": "code",
   "execution_count": null,
   "metadata": {},
   "outputs": [],
   "source": []
  }
 ],
 "metadata": {
  "kernelspec": {
   "display_name": "venv",
   "language": "python",
   "name": "python3"
  },
  "language_info": {
   "codemirror_mode": {
    "name": "ipython",
    "version": 3
   },
   "file_extension": ".py",
   "mimetype": "text/x-python",
   "name": "python",
   "nbconvert_exporter": "python",
   "pygments_lexer": "ipython3",
   "version": "3.9.5"
  }
 },
 "nbformat": 4,
 "nbformat_minor": 2
}
