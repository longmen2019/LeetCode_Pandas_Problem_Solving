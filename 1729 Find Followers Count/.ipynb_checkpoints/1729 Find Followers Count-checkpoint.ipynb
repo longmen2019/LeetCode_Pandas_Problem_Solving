{
 "cells": [
  {
   "cell_type": "code",
   "execution_count": 2,
   "id": "06ca43fe-e3dc-468a-a397-030926f262c9",
   "metadata": {},
   "outputs": [
    {
     "name": "stdout",
     "output_type": "stream",
     "text": [
      "   user_id  followers_count\n",
      "0        0                1\n",
      "1        1                1\n",
      "2        2                2\n"
     ]
    }
   ],
   "source": [
    "import pandas as pd\n",
    "\n",
    "def count_followers(followers: pd.DataFrame) -> pd.DataFrame:\n",
    "    # Group by 'user_id' and count the unique 'follower_id's\n",
    "    # .nunique() counts unique values, .reset_index() converts the result back into a DataFrame\n",
    "    new_t = followers.groupby('user_id')['follower_id'].nunique().reset_index()\n",
    "    \n",
    "    # Rename the columns to 'user_id' and 'followers_count'\n",
    "    new_t.columns = ['user_id', 'followers_count']\n",
    "    \n",
    "    # Sort the DataFrame by 'user_id' and reset the index\n",
    "    # .reset_index(drop=True) resets the index without adding the old index as a new column\n",
    "    new_t = new_t.sort_values(by='user_id').reset_index(drop=True)\n",
    "    \n",
    "    return new_t\n",
    "\n",
    "# Example usage\n",
    "# Sample data for demonstration purposes\n",
    "data = {\n",
    "    'user_id': [0, 1, 2, 2],\n",
    "    'follower_id': [1, 0, 0, 1]\n",
    "}\n",
    "\n",
    "# Create a DataFrame from the sample data\n",
    "df = pd.DataFrame(data)\n",
    "\n",
    "# Call the function and store the result\n",
    "result = count_followers(df)\n",
    "\n",
    "# Print the result\n",
    "print(result)\n"
   ]
  },
  {
   "cell_type": "code",
   "execution_count": null,
   "id": "850a1b82-bc4a-4c66-8395-f2448b790b55",
   "metadata": {},
   "outputs": [],
   "source": []
  }
 ],
 "metadata": {
  "kernelspec": {
   "display_name": "Python 3 (ipykernel)",
   "language": "python",
   "name": "python3"
  },
  "language_info": {
   "codemirror_mode": {
    "name": "ipython",
    "version": 3
   },
   "file_extension": ".py",
   "mimetype": "text/x-python",
   "name": "python",
   "nbconvert_exporter": "python",
   "pygments_lexer": "ipython3",
   "version": "3.12.4"
  }
 },
 "nbformat": 4,
 "nbformat_minor": 5
}
