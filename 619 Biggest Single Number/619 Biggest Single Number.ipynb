{
 "cells": [
  {
   "cell_type": "code",
   "execution_count": 1,
   "id": "33c31580-6fdd-449b-84a8-47d3b68df607",
   "metadata": {},
   "outputs": [
    {
     "name": "stdout",
     "output_type": "stream",
     "text": [
      "   num\n",
      "0    6\n"
     ]
    }
   ],
   "source": [
    "import pandas as pd\n",
    "\n",
    "# Example data for MyNumbers table\n",
    "data = {\n",
    "    'num': [8, 8, 3, 3, 1, 4, 5, 6]\n",
    "}\n",
    "\n",
    "# Create a DataFrame\n",
    "df = pd.DataFrame(data)\n",
    "\n",
    "# Step 1: Count the occurrences of each number\n",
    "counts = df['num'].value_counts()\n",
    "\n",
    "# Step 2: Filter out the numbers that appear more than once\n",
    "single_numbers = counts[counts == 1].index\n",
    "\n",
    "# Step 3: Find the largest single number\n",
    "if single_numbers.empty:\n",
    "    result = None\n",
    "else:\n",
    "    result = single_numbers.max()\n",
    "\n",
    "# Step 4: Create a result DataFrame\n",
    "result_df = pd.DataFrame({'num': [result]})\n",
    "\n",
    "# Display the result\n",
    "print(result_df)\n"
   ]
  },
  {
   "cell_type": "code",
   "execution_count": null,
   "id": "2c1753b7-fa22-4347-a1e6-7e559cb75dbb",
   "metadata": {},
   "outputs": [],
   "source": []
  }
 ],
 "metadata": {
  "kernelspec": {
   "display_name": "Python 3 (ipykernel)",
   "language": "python",
   "name": "python3"
  },
  "language_info": {
   "codemirror_mode": {
    "name": "ipython",
    "version": 3
   },
   "file_extension": ".py",
   "mimetype": "text/x-python",
   "name": "python",
   "nbconvert_exporter": "python",
   "pygments_lexer": "ipython3",
   "version": "3.12.4"
  }
 },
 "nbformat": 4,
 "nbformat_minor": 5
}
