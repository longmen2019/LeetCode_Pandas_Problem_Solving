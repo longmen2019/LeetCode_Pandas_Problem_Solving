{
 "cells": [
  {
   "cell_type": "code",
   "execution_count": 1,
   "id": "f4bf1875-1d17-49c9-835e-0d2ed0048a39",
   "metadata": {},
   "outputs": [
    {
     "name": "stdout",
     "output_type": "stream",
     "text": [
      "   user_id   name\n",
      "0        1  Alice\n",
      "1        2    Bob\n"
     ]
    }
   ],
   "source": [
    "import pandas as pd\n",
    "\n",
    "def fix_names(users: pd.DataFrame) -> pd.DataFrame:\n",
    "    \"\"\"\n",
    "    Fix the names in the DataFrame so that only the first character is uppercase\n",
    "    and the rest are lowercase. The result is ordered by user_id.\n",
    "\n",
    "    Args:\n",
    "    users (pd.DataFrame): DataFrame with 'user_id' and 'name' columns.\n",
    "\n",
    "    Returns:\n",
    "    pd.DataFrame: DataFrame with fixed names, ordered by 'user_id'.\n",
    "    \"\"\"\n",
    "    # Apply a lambda function to the 'name' column\n",
    "    # The lambda function takes each name and transforms it\n",
    "    # - name[0].upper(): Converts the first character of the name to uppercase\n",
    "    # - name[1:].lower(): Converts the rest of the name to lowercase\n",
    "    # Example: 'aLice' -> 'Alice'\n",
    "    users['name'] = users['name'].apply(lambda name: name[0].upper() + name[1:].lower())\n",
    "    \n",
    "    # Sort the DataFrame by 'user_id' in ascending order\n",
    "    result = users.sort_values(by='user_id')\n",
    "    \n",
    "    return result\n",
    "\n",
    "# Example usage\n",
    "data = {'user_id': [1, 2], 'name': ['aLice', 'bOB']}\n",
    "df = pd.DataFrame(data)\n",
    "fixed_df = fix_names(df)\n",
    "print(fixed_df)\n"
   ]
  },
  {
   "cell_type": "code",
   "execution_count": null,
   "id": "7dedce34-8fae-4555-8170-a9674859cd33",
   "metadata": {},
   "outputs": [],
   "source": []
  }
 ],
 "metadata": {
  "kernelspec": {
   "display_name": "Python 3 (ipykernel)",
   "language": "python",
   "name": "python3"
  },
  "language_info": {
   "codemirror_mode": {
    "name": "ipython",
    "version": 3
   },
   "file_extension": ".py",
   "mimetype": "text/x-python",
   "name": "python",
   "nbconvert_exporter": "python",
   "pygments_lexer": "ipython3",
   "version": "3.12.4"
  }
 },
 "nbformat": 4,
 "nbformat_minor": 5
}
