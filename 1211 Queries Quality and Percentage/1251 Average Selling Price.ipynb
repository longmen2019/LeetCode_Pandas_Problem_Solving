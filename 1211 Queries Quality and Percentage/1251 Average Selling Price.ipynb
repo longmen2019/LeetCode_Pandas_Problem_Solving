{
 "cells": [
  {
   "cell_type": "code",
   "execution_count": 1,
   "id": "017d5aca-1466-470b-a795-11d04774d99c",
   "metadata": {},
   "outputs": [
    {
     "name": "stdout",
     "output_type": "stream",
     "text": [
      "   product_id  average_price\n",
      "0           1           6.96\n",
      "1           2          16.96\n"
     ]
    }
   ],
   "source": [
    "import pandas as pd\n",
    "\n",
    "def average_selling_price(prices: pd.DataFrame, units_sold: pd.DataFrame) -> pd.DataFrame:\n",
    "    # Convert date columns to datetime\n",
    "    prices['start_date'] = pd.to_datetime(prices['start_date'])\n",
    "    prices['end_date'] = pd.to_datetime(prices['end_date'])\n",
    "    units_sold['purchase_date'] = pd.to_datetime(units_sold['purchase_date'])\n",
    "\n",
    "    # Merge the Prices and UnitsSold DataFrames based on product_id and date range\n",
    "    merged_df = pd.merge_asof(units_sold.sort_values('purchase_date'), \n",
    "                              prices.sort_values('start_date'), \n",
    "                              left_on='purchase_date', \n",
    "                              right_on='start_date', \n",
    "                              by='product_id', \n",
    "                              direction='backward')\n",
    "\n",
    "    # Filter records where purchase_date is within start_date and end_date\n",
    "    filtered_df = merged_df[(merged_df['purchase_date'] >= merged_df['start_date']) &\n",
    "                            (merged_df['purchase_date'] <= merged_df['end_date'])]\n",
    "\n",
    "    # Calculate the total revenue and total units sold for each product_id\n",
    "    filtered_df['total_price'] = filtered_df['units'] * filtered_df['price']\n",
    "    total_revenue_df = filtered_df.groupby('product_id')['total_price'].sum().reset_index()\n",
    "    total_units_sold_df = filtered_df.groupby('product_id')['units'].sum().reset_index()\n",
    "\n",
    "    # Merge the total revenue and total units sold DataFrames\n",
    "    result_df = pd.merge(total_revenue_df, total_units_sold_df, on='product_id')\n",
    "\n",
    "    # Calculate the average selling price\n",
    "    result_df['average_price'] = result_df['total_price'] / result_df['units']\n",
    "\n",
    "    # Round the average selling price to 2 decimal places\n",
    "    result_df['average_price'] = result_df['average_price'].round(2)\n",
    "\n",
    "    # Handle cases where a product has no sold units\n",
    "    all_product_ids = pd.DataFrame(prices['product_id'].unique(), columns=['product_id'])\n",
    "    result_df = pd.merge(all_product_ids, result_df, on='product_id', how='left').fillna(0)\n",
    "    result_df = result_df[['product_id', 'average_price']]\n",
    "\n",
    "    return result_df\n",
    "\n",
    "# Sample data for testing\n",
    "prices_data = {\n",
    "    'product_id': [1, 1, 2, 2],\n",
    "    'start_date': ['2019-02-17', '2019-03-01', '2019-02-01', '2019-02-21'],\n",
    "    'end_date': ['2019-02-28', '2019-03-22', '2019-02-20', '2019-03-31'],\n",
    "    'price': [5, 20, 15, 30]\n",
    "}\n",
    "\n",
    "units_sold_data = {\n",
    "    'product_id': [1, 1, 2, 2],\n",
    "    'purchase_date': ['2019-02-25', '2019-03-01', '2019-02-10', '2019-03-22'],\n",
    "    'units': [100, 15, 200, 30]\n",
    "}\n",
    "\n",
    "# Create DataFrames\n",
    "prices_df = pd.DataFrame(prices_data)\n",
    "units_sold_df = pd.DataFrame(units_sold_data)\n",
    "\n",
    "# Apply the function\n",
    "result = average_selling_price(prices_df, units_sold_df)\n",
    "\n",
    "# Display the result\n",
    "print(result)\n"
   ]
  },
  {
   "cell_type": "code",
   "execution_count": null,
   "id": "c20a9d43-2479-4225-827b-7e390fe1fe4c",
   "metadata": {},
   "outputs": [],
   "source": []
  }
 ],
 "metadata": {
  "kernelspec": {
   "display_name": "Python 3 (ipykernel)",
   "language": "python",
   "name": "python3"
  },
  "language_info": {
   "codemirror_mode": {
    "name": "ipython",
    "version": 3
   },
   "file_extension": ".py",
   "mimetype": "text/x-python",
   "name": "python",
   "nbconvert_exporter": "python",
   "pygments_lexer": "ipython3",
   "version": "3.12.4"
  }
 },
 "nbformat": 4,
 "nbformat_minor": 5
}
