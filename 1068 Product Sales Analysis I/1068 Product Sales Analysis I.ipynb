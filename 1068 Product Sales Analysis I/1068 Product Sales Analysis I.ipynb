{
 "cells": [
  {
   "cell_type": "code",
   "execution_count": 2,
   "id": "55bbdbba-d664-48ee-8b95-481014023e04",
   "metadata": {},
   "outputs": [
    {
     "name": "stdout",
     "output_type": "stream",
     "text": [
      "  product_name  year  price\n",
      "0        Nokia  2008   5000\n",
      "1        Nokia  2009   5000\n",
      "2        Apple  2011   9000\n"
     ]
    }
   ],
   "source": [
    "import pandas as pd\n",
    "\n",
    "# Sample data for Sales table\n",
    "sales_data = {\n",
    "    'sale_id': [1, 2, 7],\n",
    "    'product_id': [100, 100, 200],\n",
    "    'year': [2008, 2009, 2011],\n",
    "    'quantity': [10, 12, 15],\n",
    "    'price': [5000, 5000, 9000]\n",
    "}\n",
    "\n",
    "# Sample data for Product table\n",
    "product_data = {\n",
    "    'product_id': [100, 200, 300],\n",
    "    'product_name': ['Nokia', 'Apple', 'Samsung']\n",
    "}\n",
    "\n",
    "# Create DataFrame for Sales and Product tables\n",
    "sales_df = pd.DataFrame(sales_data)\n",
    "product_df = pd.DataFrame(product_data)\n",
    "\n",
    "# Merge the Sales and Product tables on 'product_id'\n",
    "merged_df = pd.merge(sales_df, product_df, on='product_id')\n",
    "\n",
    "# Select the columns 'product_name', 'year', and 'price' from the merged DataFrame\n",
    "result_df = merged_df[['product_name', 'year', 'price']]\n",
    "\n",
    "# Display the result\n",
    "print(result_df)\n"
   ]
  },
  {
   "cell_type": "code",
   "execution_count": null,
   "id": "cef78270-4eab-44eb-b43a-23fd72338bac",
   "metadata": {},
   "outputs": [],
   "source": []
  }
 ],
 "metadata": {
  "kernelspec": {
   "display_name": "Python 3 (ipykernel)",
   "language": "python",
   "name": "python3"
  },
  "language_info": {
   "codemirror_mode": {
    "name": "ipython",
    "version": 3
   },
   "file_extension": ".py",
   "mimetype": "text/x-python",
   "name": "python",
   "nbconvert_exporter": "python",
   "pygments_lexer": "ipython3",
   "version": "3.12.4"
  }
 },
 "nbformat": 4,
 "nbformat_minor": 5
}
