{
 "cells": [
  {
   "cell_type": "code",
   "execution_count": 1,
   "id": "e4f6fb70-9093-4e20-b2f8-0795f82c5b73",
   "metadata": {},
   "outputs": [
    {
     "name": "stdout",
     "output_type": "stream",
     "text": [
      "   employee_id\n",
      "0            1\n",
      "1            2\n"
     ]
    }
   ],
   "source": [
    "import pandas as pd\n",
    "\n",
    "# Sample data for Employees table\n",
    "employees_data = {\n",
    "    'employee_id': [2, 4, 5],\n",
    "    'name': ['Crew', 'Haven', 'Kristian']\n",
    "}\n",
    "\n",
    "# Sample data for Salaries table\n",
    "salaries_data = {\n",
    "    'employee_id': [5, 1, 4],\n",
    "    'salary': [76071, 22517, 63539]\n",
    "}\n",
    "\n",
    "# Create DataFrames\n",
    "employees_df = pd.DataFrame(employees_data)\n",
    "salaries_df = pd.DataFrame(salaries_data)\n",
    "\n",
    "def find_employees_with_missing_info(employees: pd.DataFrame, salaries: pd.DataFrame) -> pd.DataFrame:\n",
    "    # Merge the Employees and Salaries DataFrames on 'employee_id'\n",
    "    merged_df = pd.merge(employees, salaries, on='employee_id', how='outer')\n",
    "    \n",
    "    # Identify rows with missing 'name' or 'salary'\n",
    "    missing_info_df = merged_df[merged_df['name'].isna() | merged_df['salary'].isna()]\n",
    "    \n",
    "    # Extract and sort 'employee_id' of employees with missing information\n",
    "    missing_employee_ids = missing_info_df[['employee_id']].sort_values(by='employee_id').reset_index(drop=True)\n",
    "    \n",
    "    return missing_employee_ids\n",
    "\n",
    "# Find employees with missing information\n",
    "result = find_employees_with_missing_info(employees_df, salaries_df)\n",
    "print(result)\n"
   ]
  },
  {
   "cell_type": "code",
   "execution_count": null,
   "id": "bac5514b-479c-4797-a8d6-e11bf4a078da",
   "metadata": {},
   "outputs": [],
   "source": []
  }
 ],
 "metadata": {
  "kernelspec": {
   "display_name": "Python 3 (ipykernel)",
   "language": "python",
   "name": "python3"
  },
  "language_info": {
   "codemirror_mode": {
    "name": "ipython",
    "version": 3
   },
   "file_extension": ".py",
   "mimetype": "text/x-python",
   "name": "python",
   "nbconvert_exporter": "python",
   "pygments_lexer": "ipython3",
   "version": "3.12.4"
  }
 },
 "nbformat": 4,
 "nbformat_minor": 5
}
