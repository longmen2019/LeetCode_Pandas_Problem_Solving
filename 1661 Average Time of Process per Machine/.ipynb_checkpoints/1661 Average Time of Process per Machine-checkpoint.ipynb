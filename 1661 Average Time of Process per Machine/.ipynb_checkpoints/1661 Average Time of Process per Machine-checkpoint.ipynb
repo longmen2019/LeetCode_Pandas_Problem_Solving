{
 "cells": [
  {
   "cell_type": "code",
   "execution_count": 1,
   "id": "4a59ccb2-125e-4d42-93f8-e700125155c0",
   "metadata": {},
   "outputs": [
    {
     "name": "stdout",
     "output_type": "stream",
     "text": [
      "   machine_id  processing_time\n",
      "0           0            0.894\n",
      "1           1            0.995\n",
      "2           2            1.456\n"
     ]
    }
   ],
   "source": [
    "import pandas as pd\n",
    "\n",
    "def get_average_time(activity: pd.DataFrame) -> pd.DataFrame:\n",
    "    # Pivot the table to get start and end timestamps in separate columns\n",
    "    # The pivot operation transforms the 'activity_type' column into separate columns ('start' and 'end')\n",
    "    # and the corresponding values from the 'timestamp' column are placed in these new columns.\n",
    "    pivot_activity = activity.pivot(index=['machine_id', 'process_id'], columns='activity_type', values='timestamp').reset_index()\n",
    "    \n",
    "    # Calculate the processing time for each (machine_id, process_id) pair\n",
    "    pivot_activity['processing_time'] = pivot_activity['end'] - pivot_activity['start']\n",
    "    \n",
    "    # Group by machine_id and calculate the average processing time\n",
    "    result = pivot_activity.groupby('machine_id')['processing_time'].mean().reset_index()\n",
    "    \n",
    "    # Round the processing time to 3 decimal places\n",
    "    result['processing_time'] = result['processing_time'].round(3)\n",
    "    \n",
    "    return result\n",
    "\n",
    "# Example usage\n",
    "data = {\n",
    "    'machine_id': [0, 0, 0, 0, 1, 1, 1, 1, 2, 2, 2, 2],\n",
    "    'process_id': [0, 0, 1, 1, 0, 0, 1, 1, 0, 0, 1, 1],\n",
    "    'activity_type': ['start', 'end', 'start', 'end', 'start', 'end', 'start', 'end', 'start', 'end', 'start', 'end'],\n",
    "    'timestamp': [0.712, 1.520, 3.140, 4.120, 0.550, 1.550, 0.430, 1.420, 4.100, 4.512, 2.500, 5.000]\n",
    "}\n",
    "\n",
    "activity_df = pd.DataFrame(data)\n",
    "result_df = get_average_time(activity_df)\n",
    "print(result_df)\n"
   ]
  },
  {
   "cell_type": "code",
   "execution_count": null,
   "id": "ed5e5cec-c374-45ba-b0da-6b6e4a484509",
   "metadata": {},
   "outputs": [],
   "source": []
  }
 ],
 "metadata": {
  "kernelspec": {
   "display_name": "Python 3 (ipykernel)",
   "language": "python",
   "name": "python3"
  },
  "language_info": {
   "codemirror_mode": {
    "name": "ipython",
    "version": 3
   },
   "file_extension": ".py",
   "mimetype": "text/x-python",
   "name": "python",
   "nbconvert_exporter": "python",
   "pygments_lexer": "ipython3",
   "version": "3.12.4"
  }
 },
 "nbformat": 4,
 "nbformat_minor": 5
}
