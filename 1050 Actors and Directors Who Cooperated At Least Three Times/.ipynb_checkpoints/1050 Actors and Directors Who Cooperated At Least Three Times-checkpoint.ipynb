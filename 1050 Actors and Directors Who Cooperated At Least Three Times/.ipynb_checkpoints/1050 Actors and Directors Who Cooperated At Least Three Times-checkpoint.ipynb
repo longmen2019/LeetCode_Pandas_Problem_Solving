{
 "cells": [
  {
   "cell_type": "code",
   "execution_count": 1,
   "id": "1186a4c9-c2e0-4e62-95e1-fe8a42472c27",
   "metadata": {},
   "outputs": [
    {
     "name": "stdout",
     "output_type": "stream",
     "text": [
      "   actor_id  director_id\n",
      "0         1            1\n"
     ]
    }
   ],
   "source": [
    "import pandas as pd\n",
    "\n",
    "# Create the DataFrame\n",
    "data = {\n",
    "    'actor_id': [1, 1, 1, 1, 1, 2, 2],\n",
    "    'director_id': [1, 1, 1, 2, 2, 1, 1],\n",
    "    'timestamp': [0, 1, 2, 3, 4, 5, 6]\n",
    "}\n",
    "\n",
    "df = pd.DataFrame(data)\n",
    "\n",
    "# Group by 'actor_id' and 'director_id' and count the occurrences\n",
    "# The groupby method is used to split the data into groups based on the values in one or more columns.\n",
    "# In this case, we group the data by the 'actor_id' and 'director_id' columns.\n",
    "# The size() method then counts the number of occurrences of each group (combination of 'actor_id' and 'director_id').\n",
    "# reset_index is used to convert the grouped data back into a DataFrame and give it default integer index.\n",
    "cooperation_counts = df.groupby(['actor_id', 'director_id']).size().reset_index(name='count')\n",
    "\n",
    "# Filter the pairs where the count is at least 3\n",
    "result = cooperation_counts[cooperation_counts['count'] >= 3]\n",
    "\n",
    "# Drop the count column as it's not needed in the output\n",
    "result = result.drop(columns=['count'])\n",
    "\n",
    "print(result)\n"
   ]
  },
  {
   "cell_type": "code",
   "execution_count": null,
   "id": "898e504c-493e-4765-b15b-e4a88f48cd1c",
   "metadata": {},
   "outputs": [],
   "source": []
  }
 ],
 "metadata": {
  "kernelspec": {
   "display_name": "Python 3 (ipykernel)",
   "language": "python",
   "name": "python3"
  },
  "language_info": {
   "codemirror_mode": {
    "name": "ipython",
    "version": 3
   },
   "file_extension": ".py",
   "mimetype": "text/x-python",
   "name": "python",
   "nbconvert_exporter": "python",
   "pygments_lexer": "ipython3",
   "version": "3.12.4"
  }
 },
 "nbformat": 4,
 "nbformat_minor": 5
}
