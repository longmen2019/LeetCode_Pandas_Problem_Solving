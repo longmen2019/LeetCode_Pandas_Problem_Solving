{
 "cells": [
  {
   "cell_type": "code",
   "execution_count": 1,
   "id": "9e61dca4-d36b-4041-bc23-63ec9bb96c80",
   "metadata": {},
   "outputs": [
    {
     "name": "stdout",
     "output_type": "stream",
     "text": [
      "   id             email\n",
      "0   1  john@example.com\n",
      "1   2   bob@example.com\n"
     ]
    }
   ],
   "source": [
    "import pandas as pd\n",
    "\n",
    "# Sample data\n",
    "data = {\n",
    "    'id': [1, 2, 3],\n",
    "    'email': ['john@example.com', 'bob@example.com', 'john@example.com']\n",
    "}\n",
    "\n",
    "# Create DataFrame\n",
    "df = pd.DataFrame(data)\n",
    "\n",
    "# Drop duplicates, keeping the first occurrence (smallest id)\n",
    "# subset: specifies the column(s) to consider for identifying duplicates\n",
    "# keep: specifies which duplicates (if any) to keep; 'first' keeps the first occurrence\n",
    "# inplace: if True, performs operation in place and modifies the DataFrame directly\n",
    "df.drop_duplicates(subset='email', keep='first', inplace=True)\n",
    "\n",
    "# Sort the DataFrame by the 'id' column\n",
    "# by: specifies the column(s) to sort by\n",
    "# inplace: if True, performs operation in place and modifies the DataFrame directly\n",
    "df.sort_values(by='id', inplace=True)\n",
    "\n",
    "# Display the result\n",
    "print(df)\n"
   ]
  },
  {
   "cell_type": "code",
   "execution_count": null,
   "id": "531f29b3-f14c-4f3f-9b1f-dd5363c7743b",
   "metadata": {},
   "outputs": [],
   "source": []
  }
 ],
 "metadata": {
  "kernelspec": {
   "display_name": "Python 3 (ipykernel)",
   "language": "python",
   "name": "python3"
  },
  "language_info": {
   "codemirror_mode": {
    "name": "ipython",
    "version": 3
   },
   "file_extension": ".py",
   "mimetype": "text/x-python",
   "name": "python",
   "nbconvert_exporter": "python",
   "pygments_lexer": "ipython3",
   "version": "3.12.4"
  }
 },
 "nbformat": 4,
 "nbformat_minor": 5
}
