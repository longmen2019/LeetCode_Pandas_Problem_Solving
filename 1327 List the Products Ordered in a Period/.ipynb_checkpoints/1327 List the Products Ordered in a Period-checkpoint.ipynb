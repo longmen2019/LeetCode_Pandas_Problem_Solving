{
 "cells": [
  {
   "cell_type": "code",
   "execution_count": 2,
   "id": "20cf0f87-8b7c-4f4e-b3df-5bae63b61084",
   "metadata": {},
   "outputs": [
    {
     "name": "stdout",
     "output_type": "stream",
     "text": [
      "         product_name  unit\n",
      "0  Leetcode Solutions   130\n",
      "1        Leetcode Kit   100\n"
     ]
    }
   ],
   "source": [
    "import pandas as pd\n",
    "\n",
    "# Sample data for Products table\n",
    "products = pd.DataFrame({\n",
    "    'product_id': [1, 2, 3, 4, 5],\n",
    "    'product_name': ['Leetcode Solutions', 'Jewels of Stringology', 'HP', 'Lenovo', 'Leetcode Kit'],\n",
    "    'product_category': ['Book', 'Book', 'Laptop', 'Laptop', 'T-shirt']\n",
    "})\n",
    "\n",
    "# Sample data for Orders table\n",
    "orders = pd.DataFrame({\n",
    "    'product_id': [1, 1, 2, 2, 3, 3, 4, 4, 4, 5, 5, 5],\n",
    "    'order_date': ['2020-02-05', '2020-02-10', '2020-01-18', '2020-02-11', '2020-02-17', '2020-02-24', '2020-03-01', '2020-03-04', '2020-03-04', '2020-02-25', '2020-02-27', '2020-03-01'],\n",
    "    'unit': [60, 70, 30, 80, 2, 3, 20, 30, 60, 50, 50, 50]\n",
    "})\n",
    "\n",
    "def products_ordered_in_feb_2020(products: pd.DataFrame, orders: pd.DataFrame) -> pd.DataFrame:\n",
    "   \n",
    "    # Convert 'order_date' to datetime format\n",
    "    # This transformation is necessary to perform date-based filtering and operations\n",
    "    orders['order_date'] = pd.to_datetime(orders['order_date'])\n",
    "    \n",
    "    # Filter orders for February 2020\n",
    "    # The 'dt.month' attribute is used to extract the month from the 'order_date' column\n",
    "    feb_orders = orders[(orders['order_date'].dt.year == 2020) & (orders['order_date'].dt.month == 2)]\n",
    "    \n",
    "    # Group by 'product_id' and sum the 'unit' column\n",
    "    feb_orders_sum = feb_orders.groupby('product_id')['unit'].sum().reset_index()\n",
    "    # The 'reset_index()' method is used to convert the grouped result back to a DataFrame\n",
    "    # This ensures that 'product_id' remains a column instead of becoming the index\n",
    "    \n",
    "    # Filter products with at least 100 units ordered\n",
    "    feb_orders_filtered = feb_orders_sum[feb_orders_sum['unit'] >= 100]\n",
    "    \n",
    "    # Merge with products to get product names\n",
    "    result_df = pd.merge(feb_orders_filtered, products[['product_id', 'product_name']], on='product_id')\n",
    "    \n",
    "    return result_df[['product_name', 'unit']]\n",
    "# Call the function\n",
    "result = products_ordered_in_feb_2020(products, orders)\n",
    "print(result)\n"
   ]
  },
  {
   "cell_type": "code",
   "execution_count": null,
   "id": "5c59149a-90dc-41b5-bdff-c19698151ce4",
   "metadata": {},
   "outputs": [],
   "source": []
  }
 ],
 "metadata": {
  "kernelspec": {
   "display_name": "Python 3 (ipykernel)",
   "language": "python",
   "name": "python3"
  },
  "language_info": {
   "codemirror_mode": {
    "name": "ipython",
    "version": 3
   },
   "file_extension": ".py",
   "mimetype": "text/x-python",
   "name": "python",
   "nbconvert_exporter": "python",
   "pygments_lexer": "ipython3",
   "version": "3.12.4"
  }
 },
 "nbformat": 4,
 "nbformat_minor": 5
}
