{
 "cells": [
  {
   "cell_type": "code",
   "execution_count": 1,
   "id": "9e61dca4-d36b-4041-bc23-63ec9bb96c80",
   "metadata": {},
   "outputs": [
    {
     "name": "stdout",
     "output_type": "stream",
     "text": [
      "   score  rank\n",
      "0   4.00     1\n",
      "1   4.00     1\n",
      "2   3.85     2\n",
      "3   3.65     3\n",
      "4   3.65     3\n",
      "5   3.50     4\n"
     ]
    }
   ],
   "source": [
    "import pandas as pd\n",
    "\n",
    "# Create the DataFrame\n",
    "data = {\n",
    "    'id': [1, 2, 3, 4, 5, 6],\n",
    "    'score': [3.50, 3.65, 4.00, 3.85, 4.00, 3.65]\n",
    "}\n",
    "df = pd.DataFrame(data)\n",
    "\n",
    "# Rank the scores\n",
    "# The 'rank' method ranks the scores in descending order (highest to lowest).\n",
    "# The 'dense' method ensures that there are no gaps in the ranking sequence.\n",
    "# For example, if two scores are tied for rank 1, the next rank will be 2.\n",
    "df['rank'] = df['score'].rank(method='dense', ascending=False).astype(int)\n",
    "\n",
    "# Sort the DataFrame by score in descending order\n",
    "# The 'sort_values' method sorts the DataFrame based on the 'score' column.\n",
    "# 'ascending=False' sorts the scores from highest to lowest.\n",
    "# 'reset_index(drop=True)' resets the index of the DataFrame after sorting,\n",
    "# and 'drop=True' prevents the old index from being added as a column.\n",
    "df = df.sort_values(by='score', ascending=False).reset_index(drop=True)\n",
    "\n",
    "# Select the required columns\n",
    "# The double square brackets '[[]]' are used to select multiple columns from the DataFrame.\n",
    "# Here, we are selecting the 'score' and 'rank' columns to create the result DataFrame.\n",
    "result = df[['score', 'rank']]\n",
    "\n",
    "print(result)\n"
   ]
  },
  {
   "cell_type": "code",
   "execution_count": null,
   "id": "531f29b3-f14c-4f3f-9b1f-dd5363c7743b",
   "metadata": {},
   "outputs": [],
   "source": []
  }
 ],
 "metadata": {
  "kernelspec": {
   "display_name": "Python 3 (ipykernel)",
   "language": "python",
   "name": "python3"
  },
  "language_info": {
   "codemirror_mode": {
    "name": "ipython",
    "version": 3
   },
   "file_extension": ".py",
   "mimetype": "text/x-python",
   "name": "python",
   "nbconvert_exporter": "python",
   "pygments_lexer": "ipython3",
   "version": "3.12.4"
  }
 },
 "nbformat": 4,
 "nbformat_minor": 5
}
