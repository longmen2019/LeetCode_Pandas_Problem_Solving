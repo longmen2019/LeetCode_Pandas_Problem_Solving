{
 "cells": [
  {
   "cell_type": "code",
   "execution_count": 4,
   "id": "625ad818-249f-4a47-a1fb-6e4c3dbcf8ea",
   "metadata": {},
   "outputs": [
    {
     "name": "stdout",
     "output_type": "stream",
     "text": [
      "   user_id          last_stamp\n",
      "0        2 2020-01-16 02:49:50\n",
      "1        6 2020-06-30 15:06:07\n",
      "2        8 2020-12-30 00:46:50\n"
     ]
    }
   ],
   "source": [
    "import pandas as pd\n",
    "\n",
    "def latest_login(logins: pd.DataFrame) -> pd.DataFrame:\n",
    "    # Ensure 'time_stamp' is in datetime format\n",
    "    logins['time_stamp'] = pd.to_datetime(logins['time_stamp'])\n",
    "\n",
    "    # Filter logins for the year 2020\n",
    "    logins_2020 = logins[logins['time_stamp'].dt.year == 2020]\n",
    "\n",
    "    # Find the latest login for each user\n",
    "    latest_login_idx = logins_2020.groupby('user_id')['time_stamp'].idxmax()\n",
    "    latest_logins = logins.loc[latest_login_idx]\n",
    "\n",
    "    # Rename 'time_stamp' to 'last_stamp'\n",
    "    latest_logins.rename(columns={'time_stamp': 'last_stamp'}, inplace=True)\n",
    "\n",
    "    # Set 'last_stamp' as the index\n",
    "    latest_logins.set_index('last_stamp', inplace=True)\n",
    "\n",
    "    # Reset index to match the desired output format\n",
    "    latest_logins.reset_index(inplace=True)\n",
    "\n",
    "    # Select only necessary columns\n",
    "    result = latest_logins[['user_id', 'last_stamp']]\n",
    "\n",
    "    return result\n",
    "\n",
    "# Sample data\n",
    "data = {\n",
    "    'user_id': [6, 6, 6, 8, 8, 2, 2, 14, 14],\n",
    "    'time_stamp': [\n",
    "        '2020-06-30 15:06:07', '2021-04-21 14:06:06', '2019-03-07 00:18:15',\n",
    "        '2020-02-01 05:10:53', '2020-12-30 00:46:50', '2020-01-16 02:49:50',\n",
    "        '2019-08-25 07:59:08', '2019-07-14 09:00:00', '2021-01-06 11:59:59'\n",
    "    ]\n",
    "}\n",
    "\n",
    "# Creating DataFrame\n",
    "logins = pd.DataFrame(data)\n",
    "\n",
    "# Getting the latest logins for 2020\n",
    "result = latest_login(logins)\n",
    "print(result)\n"
   ]
  },
  {
   "cell_type": "code",
   "execution_count": null,
   "id": "92837d5e-b5f7-4f89-989d-37943df37a44",
   "metadata": {},
   "outputs": [],
   "source": []
  }
 ],
 "metadata": {
  "kernelspec": {
   "display_name": "Python 3 (ipykernel)",
   "language": "python",
   "name": "python3"
  },
  "language_info": {
   "codemirror_mode": {
    "name": "ipython",
    "version": 3
   },
   "file_extension": ".py",
   "mimetype": "text/x-python",
   "name": "python",
   "nbconvert_exporter": "python",
   "pygments_lexer": "ipython3",
   "version": "3.12.4"
  }
 },
 "nbformat": 4,
 "nbformat_minor": 5
}
