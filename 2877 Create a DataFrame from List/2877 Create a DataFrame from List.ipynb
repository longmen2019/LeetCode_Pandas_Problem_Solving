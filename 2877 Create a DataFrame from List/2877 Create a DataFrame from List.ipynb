{
 "cells": [
  {
   "cell_type": "code",
   "execution_count": 1,
   "id": "5020ab8a-cff8-4483-88cd-85a9d7fa0093",
   "metadata": {},
   "outputs": [
    {
     "name": "stdout",
     "output_type": "stream",
     "text": [
      "   student_id  age\n",
      "0           1   15\n",
      "1           2   11\n",
      "2           3   11\n",
      "3           4   20\n"
     ]
    }
   ],
   "source": [
    "from typing import List\n",
    "import pandas as pd\n",
    "\n",
    "def create_dataframe(student_data: List[List[int]]) -> pd.DataFrame:\n",
    "    \"\"\"\n",
    "    Create a DataFrame from a 2D list of student data.\n",
    "\n",
    "    Args:\n",
    "    student_data (List[List[int]]): A 2D list containing student IDs and ages.\n",
    "\n",
    "    Returns:\n",
    "    pd.DataFrame: A DataFrame with two columns, 'student_id' and 'age'.\n",
    "    \"\"\"\n",
    "    df = pd.DataFrame(student_data, columns=['student_id', 'age'])\n",
    "    return df\n",
    "\n",
    "# Example usage\n",
    "student_data = [\n",
    "    [1, 15],\n",
    "    [2, 11],\n",
    "    [3, 11],\n",
    "    [4, 20]\n",
    "]\n",
    "\n",
    "df = create_dataframe(student_data)\n",
    "print(df)\n"
   ]
  },
  {
   "cell_type": "code",
   "execution_count": null,
   "id": "986a3b96-049b-41fe-9b93-1ce928360996",
   "metadata": {},
   "outputs": [],
   "source": []
  }
 ],
 "metadata": {
  "kernelspec": {
   "display_name": "Python 3 (ipykernel)",
   "language": "python",
   "name": "python3"
  },
  "language_info": {
   "codemirror_mode": {
    "name": "ipython",
    "version": 3
   },
   "file_extension": ".py",
   "mimetype": "text/x-python",
   "name": "python",
   "nbconvert_exporter": "python",
   "pygments_lexer": "ipython3",
   "version": "3.12.4"
  }
 },
 "nbformat": 4,
 "nbformat_minor": 5
}
