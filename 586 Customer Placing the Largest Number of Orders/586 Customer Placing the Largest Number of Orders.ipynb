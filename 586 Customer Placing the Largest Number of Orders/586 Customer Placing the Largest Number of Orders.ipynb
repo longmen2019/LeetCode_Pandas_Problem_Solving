{
 "cells": [
  {
   "cell_type": "code",
   "execution_count": 1,
   "id": "4acbb55d-672b-4ad3-a0a1-639a85642dc9",
   "metadata": {},
   "outputs": [
    {
     "name": "stdout",
     "output_type": "stream",
     "text": [
      "   customer_number\n",
      "2                3\n"
     ]
    }
   ],
   "source": [
    "import pandas as pd\n",
    "\n",
    "def largest_orders(orders: pd.DataFrame) -> pd.DataFrame:\n",
    "    # Group by customer_number and count the orders\n",
    "    order_counts = orders.groupby('customer_number').size().reset_index(name='order_count')\n",
    "    \n",
    "    # Find the maximum order count\n",
    "    max_orders = order_counts['order_count'].max()\n",
    "    \n",
    "    # Find the customer(s) with the maximum number of orders\n",
    "    top_customers = order_counts[order_counts['order_count'] == max_orders][['customer_number']]\n",
    "    \n",
    "    # Return the result as a DataFrame\n",
    "    return top_customers\n",
    "\n",
    "# Example usage\n",
    "data = {\n",
    "    'order_number': [1, 2, 3, 4],\n",
    "    'customer_number': [1, 2, 3, 3]\n",
    "}\n",
    "orders = pd.DataFrame(data)\n",
    "print(largest_orders(orders))\n"
   ]
  },
  {
   "cell_type": "code",
   "execution_count": null,
   "id": "66436247-8f6b-445c-a41e-286d7b037035",
   "metadata": {},
   "outputs": [],
   "source": []
  }
 ],
 "metadata": {
  "kernelspec": {
   "display_name": "Python 3 (ipykernel)",
   "language": "python",
   "name": "python3"
  },
  "language_info": {
   "codemirror_mode": {
    "name": "ipython",
    "version": 3
   },
   "file_extension": ".py",
   "mimetype": "text/x-python",
   "name": "python",
   "nbconvert_exporter": "python",
   "pygments_lexer": "ipython3",
   "version": "3.12.4"
  }
 },
 "nbformat": 4,
 "nbformat_minor": 5
}
