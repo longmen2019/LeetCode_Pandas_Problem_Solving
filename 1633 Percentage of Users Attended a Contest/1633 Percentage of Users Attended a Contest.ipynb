{
 "cells": [
  {
   "cell_type": "code",
   "execution_count": 1,
   "id": "8a705330-8a39-49f4-98cc-fd6e569f4ba6",
   "metadata": {},
   "outputs": [
    {
     "name": "stdout",
     "output_type": "stream",
     "text": [
      "   contest_id  percentage\n",
      "1         208      100.00\n",
      "2         209      100.00\n",
      "3         210      100.00\n",
      "4         215       66.67\n",
      "0         207       33.33\n"
     ]
    }
   ],
   "source": [
    "import pandas as pd\n",
    "\n",
    "def users_percentage(users: pd.DataFrame, register: pd.DataFrame) -> pd.DataFrame:\n",
    "    # Group the register DataFrame by 'contest_id' and count the number of 'user_id' entries for each contest\n",
    "    contest_counts = register.groupby('contest_id')['user_id'].count().reset_index(name='count')\n",
    "    \n",
    "    # Calculate the total number of unique users\n",
    "    total_users = len(users)\n",
    "    \n",
    "    # Calculate the percentage of users registered in each contest\n",
    "    contest_counts['percentage'] = (contest_counts['count'] / total_users) * 100\n",
    "    contest_counts['percentage'] = contest_counts['percentage'].round(2)\n",
    "    \n",
    "    # Sort the result by percentage in descending order and by contest_id in ascending order in case of a tie\n",
    "    result = contest_counts.sort_values(by=['percentage', 'contest_id'], ascending=[False, True])\n",
    "    \n",
    "    # Select only the 'contest_id' and 'percentage' columns\n",
    "    result = result[['contest_id', 'percentage']]\n",
    "    \n",
    "    return result\n",
    "\n",
    "# Example usage:\n",
    "users_data = {\n",
    "    'user_id': [6, 2, 7],\n",
    "    'user_name': ['Alice', 'Bob', 'Alex']\n",
    "}\n",
    "\n",
    "register_data = {\n",
    "    'contest_id': [215, 209, 208, 210, 208, 209, 209, 215, 208, 210, 207, 210],\n",
    "    'user_id': [6, 2, 2, 6, 6, 7, 6, 7, 7, 2, 2, 7]\n",
    "}\n",
    "\n",
    "# Create DataFrames\n",
    "users_df = pd.DataFrame(users_data)\n",
    "register_df = pd.DataFrame(register_data)\n",
    "\n",
    "# Get the result\n",
    "result = users_percentage(users_df, register_df)\n",
    "print(result)\n"
   ]
  },
  {
   "cell_type": "code",
   "execution_count": null,
   "id": "e5dd7e75-b7f4-4850-b5ad-c9217d62fb1f",
   "metadata": {},
   "outputs": [],
   "source": []
  }
 ],
 "metadata": {
  "kernelspec": {
   "display_name": "Python 3 (ipykernel)",
   "language": "python",
   "name": "python3"
  },
  "language_info": {
   "codemirror_mode": {
    "name": "ipython",
    "version": 3
   },
   "file_extension": ".py",
   "mimetype": "text/x-python",
   "name": "python",
   "nbconvert_exporter": "python",
   "pygments_lexer": "ipython3",
   "version": "3.12.4"
  }
 },
 "nbformat": 4,
 "nbformat_minor": 5
}
