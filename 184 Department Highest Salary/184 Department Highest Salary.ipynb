{
 "cells": [
  {
   "cell_type": "code",
   "execution_count": 8,
   "id": "9e61dca4-d36b-4041-bc23-63ec9bb96c80",
   "metadata": {},
   "outputs": [
    {
     "name": "stdout",
     "output_type": "stream",
     "text": [
      "  Department Employee  Salary\n",
      "0         IT      Jim   90000\n",
      "1      Sales    Henry   80000\n",
      "2         IT      Max   90000\n"
     ]
    }
   ],
   "source": [
    "import pandas as pd\n",
    "\n",
    "# Example data for Employee table\n",
    "employee_data = {\n",
    "    'id': [1, 2, 3, 4, 5],\n",
    "    'name': ['Joe', 'Jim', 'Henry', 'Sam', 'Max'],\n",
    "    'salary': [70000, 90000, 80000, 60000, 90000],\n",
    "    'departmentId': [1, 1, 2, 2, 1]\n",
    "}\n",
    "\n",
    "# Example data for Department table\n",
    "department_data = {\n",
    "    'id': [1, 2],\n",
    "    'name': ['IT', 'Sales']\n",
    "}\n",
    "\n",
    "# Create DataFrames\n",
    "employee_df = pd.DataFrame(employee_data)\n",
    "department_df = pd.DataFrame(department_data)\n",
    "\n",
    "# Merge the Employee and Department DataFrames on departmentId\n",
    "merged_df = pd.merge(employee_df, department_df, left_on='departmentId', right_on='id', suffixes=('_emp', '_dept'))\n",
    "# print(merged_df)\n",
    "# print()\n",
    "# Group by department name and find the maximum salary in each department\n",
    "max_salary_df = merged_df.groupby('name_dept')['salary'].max().reset_index()\n",
    "# print(max_salary_df)\n",
    "# print()\n",
    "# Merge the max_salary_df with the original merged_df to get the employees with the highest salary in each department\n",
    "result_df = pd.merge(merged_df, max_salary_df, on=['name_dept', 'salary'])\n",
    "# print(result_df)\n",
    "# print()\n",
    "# Select and rename the relevant columns for the final output\n",
    "result_df = result_df[['name_dept', 'name_emp', 'salary']]\n",
    "# print(result_df)\n",
    "# print()\n",
    "result_df.columns = ['Department', 'Employee', 'Salary']\n",
    "# Print the result\n",
    "print(result_df)\n"
   ]
  },
  {
   "cell_type": "code",
   "execution_count": null,
   "id": "531f29b3-f14c-4f3f-9b1f-dd5363c7743b",
   "metadata": {},
   "outputs": [],
   "source": []
  }
 ],
 "metadata": {
  "kernelspec": {
   "display_name": "Python 3 (ipykernel)",
   "language": "python",
   "name": "python3"
  },
  "language_info": {
   "codemirror_mode": {
    "name": "ipython",
    "version": 3
   },
   "file_extension": ".py",
   "mimetype": "text/x-python",
   "name": "python",
   "nbconvert_exporter": "python",
   "pygments_lexer": "ipython3",
   "version": "3.12.4"
  }
 },
 "nbformat": 4,
 "nbformat_minor": 5
}
