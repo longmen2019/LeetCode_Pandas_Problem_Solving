{
 "cells": [
  {
   "cell_type": "code",
   "execution_count": 1,
   "id": "9e61dca4-d36b-4041-bc23-63ec9bb96c80",
   "metadata": {},
   "outputs": [
    {
     "name": "stdout",
     "output_type": "stream",
     "text": [
      "  Employee\n",
      "0      Joe\n"
     ]
    }
   ],
   "source": [
    "import pandas as pd\n",
    "\n",
    "# Sample data\n",
    "data = {\n",
    "    'id': [1, 2, 3, 4],\n",
    "    'name': ['Joe', 'Henry', 'Sam', 'Max'],\n",
    "    'salary': [70000, 80000, 60000, 90000],\n",
    "    'managerId': [3, 4, None, None]\n",
    "}\n",
    "\n",
    "# Creating the DataFrame\n",
    "df = pd.DataFrame(data)\n",
    "\n",
    "# Merging the DataFrame with itself to compare employees with their managers\n",
    "merged_df = df.merge(df, left_on='managerId', right_on='id', suffixes=('', '_manager'))\n",
    "\n",
    "# Filtering the DataFrame to find employees who earn more than their managers\n",
    "result_df = merged_df[merged_df['salary'] > merged_df['salary_manager']]\n",
    "\n",
    "# Selecting the names of the employees who earn more than their managers\n",
    "result = result_df[['name']].rename(columns={'name': 'Employee'})\n",
    "\n",
    "print(result)\n"
   ]
  },
  {
   "cell_type": "code",
   "execution_count": null,
   "id": "531f29b3-f14c-4f3f-9b1f-dd5363c7743b",
   "metadata": {},
   "outputs": [],
   "source": []
  }
 ],
 "metadata": {
  "kernelspec": {
   "display_name": "Python 3 (ipykernel)",
   "language": "python",
   "name": "python3"
  },
  "language_info": {
   "codemirror_mode": {
    "name": "ipython",
    "version": 3
   },
   "file_extension": ".py",
   "mimetype": "text/x-python",
   "name": "python",
   "nbconvert_exporter": "python",
   "pygments_lexer": "ipython3",
   "version": "3.12.4"
  }
 },
 "nbformat": 4,
 "nbformat_minor": 5
}
