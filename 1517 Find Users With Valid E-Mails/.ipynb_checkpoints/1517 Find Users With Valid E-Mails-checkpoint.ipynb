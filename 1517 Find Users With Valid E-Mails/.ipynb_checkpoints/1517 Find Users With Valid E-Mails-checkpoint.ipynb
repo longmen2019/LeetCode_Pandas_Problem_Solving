{
 "cells": [
  {
   "cell_type": "code",
   "execution_count": 1,
   "id": "be439a78-6131-4845-8d77-bf2543105d75",
   "metadata": {},
   "outputs": [
    {
     "name": "stdout",
     "output_type": "stream",
     "text": [
      "   user_id       name                     mail\n",
      "0        1    Winston     winston@leetcode.com\n",
      "2        3  Annabelle      bella-@leetcode.com\n",
      "3        4      Sally  sally.come@leetcode.com\n"
     ]
    }
   ],
   "source": [
    "import pandas as pd\n",
    "\n",
    "def find_valid_emails(users_df):\n",
    "  \"\"\"\n",
    "  This function finds users with valid emails in the given DataFrame.\n",
    "\n",
    "  Args:\n",
    "      users_df (pd.DataFrame): DataFrame containing user information.\n",
    "\n",
    "  Returns:\n",
    "      pd.DataFrame: DataFrame containing users with valid emails.\n",
    "  \"\"\"\n",
    "  # Regular expression for a valid email with 'leetcode.com' domain\n",
    "  email_regex = r\"^[a-zA-Z][a-zA-Z0-9._-]*@leetcode\\.com$\"\n",
    "\n",
    "  # Filter users with emails matching the regular expression\n",
    "  valid_emails_df = users_df[users_df['mail'].str.match(email_regex)]\n",
    "\n",
    "  return valid_emails_df\n",
    "\n",
    "# Example usage\n",
    "users_data = {\n",
    "  'user_id': [1, 2, 3, 4, 5, 6, 7],\n",
    "  'name': ['Winston', 'Jonathan', 'Annabelle', 'Sally', 'Marwan', 'David', 'Shapiro'],\n",
    "  'mail': ['winston@leetcode.com', 'jonathanisgreat', 'bella-@leetcode.com', 'sally.come@leetcode.com', 'qu abz#2020@leetcode.com', 'david69@gmail.com', '.shapo@leetcode.com']\n",
    "}\n",
    "\n",
    "users_df = pd.DataFrame(users_data)\n",
    "\n",
    "valid_users_df = find_valid_emails(users_df.copy())\n",
    "\n",
    "print(valid_users_df)"
   ]
  },
  {
   "cell_type": "code",
   "execution_count": null,
   "id": "48520d87-0c88-4b1a-b579-9314eb256c32",
   "metadata": {},
   "outputs": [],
   "source": []
  }
 ],
 "metadata": {
  "kernelspec": {
   "display_name": "Python 3 (ipykernel)",
   "language": "python",
   "name": "python3"
  },
  "language_info": {
   "codemirror_mode": {
    "name": "ipython",
    "version": 3
   },
   "file_extension": ".py",
   "mimetype": "text/x-python",
   "name": "python",
   "nbconvert_exporter": "python",
   "pygments_lexer": "ipython3",
   "version": "3.12.4"
  }
 },
 "nbformat": 4,
 "nbformat_minor": 5
}
