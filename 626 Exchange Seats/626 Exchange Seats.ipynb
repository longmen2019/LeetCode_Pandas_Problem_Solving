{
 "cells": [
  {
   "cell_type": "code",
   "execution_count": 1,
   "id": "770a972a-86b3-4037-869b-02a3db339cf3",
   "metadata": {},
   "outputs": [
    {
     "name": "stdout",
     "output_type": "stream",
     "text": [
      "   id  student\n",
      "0   1    Doris\n",
      "1   2    Abbot\n",
      "2   3    Green\n",
      "3   4  Emerson\n",
      "4   5   Jeames\n"
     ]
    }
   ],
   "source": [
    "import pandas as pd\n",
    "\n",
    "def exchange_seats(seat: pd.DataFrame) -> pd.DataFrame:\n",
    "    # Create a copy of the DataFrame to avoid modifying the original one\n",
    "    result = seat.copy()\n",
    "    \n",
    "    # Swap the 'student' column for every two consecutive rows\n",
    "    for i in range(0, len(result) - 1, 2):\n",
    "        result.at[i, 'student'], result.at[i + 1, 'student'] = result.at[i + 1, 'student'], result.at[i, 'student']\n",
    "    \n",
    "    # Return the DataFrame ordered by 'id'\n",
    "    return result.sort_values('id').reset_index(drop=True)\n",
    "\n",
    "# Sample DataFrame\n",
    "data = {\n",
    "    'id': [1, 2, 3, 4, 5],\n",
    "    'student': ['Abbot', 'Doris', 'Emerson', 'Green', 'Jeames']\n",
    "}\n",
    "df = pd.DataFrame(data)\n",
    "\n",
    "# Apply the exchange_seats function\n",
    "result = exchange_seats(df)\n",
    "\n",
    "# Print the result\n",
    "print(result)\n"
   ]
  },
  {
   "cell_type": "code",
   "execution_count": null,
   "id": "14d2d10f-554b-43cd-8249-373979f92b45",
   "metadata": {},
   "outputs": [],
   "source": []
  }
 ],
 "metadata": {
  "kernelspec": {
   "display_name": "Python 3 (ipykernel)",
   "language": "python",
   "name": "python3"
  },
  "language_info": {
   "codemirror_mode": {
    "name": "ipython",
    "version": 3
   },
   "file_extension": ".py",
   "mimetype": "text/x-python",
   "name": "python",
   "nbconvert_exporter": "python",
   "pygments_lexer": "ipython3",
   "version": "3.12.4"
  }
 },
 "nbformat": 4,
 "nbformat_minor": 5
}
