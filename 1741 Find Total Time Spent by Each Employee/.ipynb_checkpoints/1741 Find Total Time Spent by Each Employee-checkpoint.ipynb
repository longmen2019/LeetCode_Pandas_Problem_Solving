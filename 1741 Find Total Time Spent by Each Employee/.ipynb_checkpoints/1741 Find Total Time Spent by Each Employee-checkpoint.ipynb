{
 "cells": [
  {
   "cell_type": "code",
   "execution_count": 1,
   "id": "ae20d070-bf72-4b39-92fd-c8e6f9cd976e",
   "metadata": {},
   "outputs": [
    {
     "name": "stdout",
     "output_type": "stream",
     "text": [
      "         day  emp_id  total_time\n",
      "0 2020-11-28       1         173\n",
      "1 2020-11-28       2          30\n",
      "2 2020-12-03       1          41\n",
      "3 2020-12-09       2          27\n"
     ]
    }
   ],
   "source": [
    "import pandas as pd\n",
    "\n",
    "def total_time(employees: pd.DataFrame) -> pd.DataFrame:\n",
    "    # Ensure the 'event_day' column is in datetime format\n",
    "    employees['event_day'] = pd.to_datetime(employees['event_day'])\n",
    "    \n",
    "    # Calculate the time difference between 'out_time' and 'in_time'\n",
    "    employees['time_dff'] = employees['out_time'] - employees['in_time']\n",
    "    \n",
    "    # Group by 'event_day' and 'emp_id', then sum the 'time_dff'\n",
    "    new_employees = employees.groupby(['event_day', 'emp_id'])['time_dff'].sum().reset_index()\n",
    "    \n",
    "    # Rename the columns\n",
    "    new_employees.rename(columns={'event_day': 'day', 'time_dff': 'total_time'}, inplace=True)\n",
    "    \n",
    "    # Return the resulting DataFrame\n",
    "    return new_employees\n",
    "\n",
    "# Example usage\n",
    "data = {\n",
    "    'emp_id': [1, 1, 1, 2, 2],\n",
    "    'event_day': ['2020-11-28', '2020-11-28', '2020-12-03', '2020-11-28', '2020-12-09'],\n",
    "    'in_time': [4, 55, 1, 3, 47],\n",
    "    'out_time': [32, 200, 42, 33, 74]\n",
    "}\n",
    "\n",
    "employees = pd.DataFrame(data)\n",
    "result = total_time(employees)\n",
    "print(result)\n"
   ]
  },
  {
   "cell_type": "code",
   "execution_count": null,
   "id": "9e0b0fb3-3999-42eb-85d0-709aeba7f4f7",
   "metadata": {},
   "outputs": [],
   "source": []
  }
 ],
 "metadata": {
  "kernelspec": {
   "display_name": "Python 3 (ipykernel)",
   "language": "python",
   "name": "python3"
  },
  "language_info": {
   "codemirror_mode": {
    "name": "ipython",
    "version": 3
   },
   "file_extension": ".py",
   "mimetype": "text/x-python",
   "name": "python",
   "nbconvert_exporter": "python",
   "pygments_lexer": "ipython3",
   "version": "3.12.4"
  }
 },
 "nbformat": 4,
 "nbformat_minor": 5
}
