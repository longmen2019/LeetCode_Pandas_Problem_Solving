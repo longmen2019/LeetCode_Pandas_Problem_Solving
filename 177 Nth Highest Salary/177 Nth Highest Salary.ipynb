{
 "cells": [
  {
   "cell_type": "code",
   "execution_count": 7,
   "id": "9e61dca4-d36b-4041-bc23-63ec9bb96c80",
   "metadata": {},
   "outputs": [
    {
     "name": "stdout",
     "output_type": "stream",
     "text": [
      "200\n"
     ]
    }
   ],
   "source": [
    "import pandas as pd  # Import the pandas library for data manipulation\n",
    "\n",
    "def getNthHighestSalary(employee_df, N):\n",
    "    # Drop duplicate salaries and sort them in descending order\n",
    "    sorted_salaries = employee_df['salary'].drop_duplicates().sort_values(ascending=False)\n",
    "    \n",
    "    # Check if N is within the range of the number of unique salaries\n",
    "    if N <= len(sorted_salaries):\n",
    "        # Return the Nth highest salary (0-indexed, so N-1)\n",
    "        return sorted_salaries.iloc[N-1]\n",
    "    else:\n",
    "        # Return None if there are fewer than N unique salaries\n",
    "        return None\n",
    "\n",
    "# Example usage:\n",
    "data = {'id': [1, 2, 3], 'salary': [100, 200, 300]}  # Sample data\n",
    "employee_df = pd.DataFrame(data)  # Create a DataFrame from the sample data\n",
    "print(getNthHighestSalary(employee_df, 2))  # Output: 200\n"
   ]
  },
  {
   "cell_type": "code",
   "execution_count": null,
   "id": "531f29b3-f14c-4f3f-9b1f-dd5363c7743b",
   "metadata": {},
   "outputs": [],
   "source": []
  }
 ],
 "metadata": {
  "kernelspec": {
   "display_name": "Python 3 (ipykernel)",
   "language": "python",
   "name": "python3"
  },
  "language_info": {
   "codemirror_mode": {
    "name": "ipython",
    "version": 3
   },
   "file_extension": ".py",
   "mimetype": "text/x-python",
   "name": "python",
   "nbconvert_exporter": "python",
   "pygments_lexer": "ipython3",
   "version": "3.12.4"
  }
 },
 "nbformat": 4,
 "nbformat_minor": 5
}
